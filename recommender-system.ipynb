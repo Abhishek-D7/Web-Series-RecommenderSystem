{
 "cells": [
  {
   "cell_type": "code",
   "execution_count": 1,
   "id": "78a9522f",
   "metadata": {
    "_cell_guid": "b1076dfc-b9ad-4769-8c92-a6c4dae69d19",
    "_uuid": "8f2839f25d086af736a60e9eeb907d3b93b6e0e5",
    "execution": {
     "iopub.execute_input": "2024-03-20T17:34:33.746871Z",
     "iopub.status.busy": "2024-03-20T17:34:33.746172Z",
     "iopub.status.idle": "2024-03-20T17:34:34.793479Z",
     "shell.execute_reply": "2024-03-20T17:34:34.791999Z"
    },
    "papermill": {
     "duration": 1.065555,
     "end_time": "2024-03-20T17:34:34.796413",
     "exception": false,
     "start_time": "2024-03-20T17:34:33.730858",
     "status": "completed"
    },
    "tags": []
   },
   "outputs": [
    {
     "name": "stdout",
     "output_type": "stream",
     "text": [
      "/kaggle/input/tv-series/TV Series.csv\n"
     ]
    }
   ],
   "source": [
    "# This Python 3 environment comes with many helpful analytics libraries installed\n",
    "# It is defined by the kaggle/python Docker image: https://github.com/kaggle/docker-python\n",
    "# For example, here's several helpful packages to load\n",
    "\n",
    "import numpy as np # linear algebra\n",
    "import pandas as pd # data processing, CSV file I/O (e.g. pd.read_csv)\n",
    "\n",
    "# Input data files are available in the read-only \"../input/\" directory\n",
    "# For example, running this (by clicking run or pressing Shift+Enter) will list all files under the input directory\n",
    "\n",
    "import os\n",
    "for dirname, _, filenames in os.walk('/kaggle/input'):\n",
    "    for filename in filenames:\n",
    "        print(os.path.join(dirname, filename))\n",
    "\n",
    "# You can write up to 20GB to the current directory (/kaggle/working/) that gets preserved as output when you create a version using \"Save & Run All\" \n",
    "# You can also write temporary files to /kaggle/temp/, but they won't be saved outside of the current session"
   ]
  },
  {
   "cell_type": "code",
   "execution_count": 2,
   "id": "c2fbbb7e",
   "metadata": {
    "execution": {
     "iopub.execute_input": "2024-03-20T17:34:34.825653Z",
     "iopub.status.busy": "2024-03-20T17:34:34.824587Z",
     "iopub.status.idle": "2024-03-20T17:34:34.829745Z",
     "shell.execute_reply": "2024-03-20T17:34:34.828873Z"
    },
    "papermill": {
     "duration": 0.022529,
     "end_time": "2024-03-20T17:34:34.832482",
     "exception": false,
     "start_time": "2024-03-20T17:34:34.809953",
     "status": "completed"
    },
    "tags": []
   },
   "outputs": [],
   "source": [
    "#Importing the Libraries of Python pandas , Numpy etc..\n",
    "import pandas as pd\n",
    "import numpy as np\n",
    "import warnings\n",
    "warnings.filterwarnings('ignore')"
   ]
  },
  {
   "cell_type": "code",
   "execution_count": 3,
   "id": "0c59bb52",
   "metadata": {
    "execution": {
     "iopub.execute_input": "2024-03-20T17:34:34.860999Z",
     "iopub.status.busy": "2024-03-20T17:34:34.860425Z",
     "iopub.status.idle": "2024-03-20T17:34:35.261097Z",
     "shell.execute_reply": "2024-03-20T17:34:35.260160Z"
    },
    "papermill": {
     "duration": 0.418048,
     "end_time": "2024-03-20T17:34:35.263802",
     "exception": false,
     "start_time": "2024-03-20T17:34:34.845754",
     "status": "completed"
    },
    "tags": []
   },
   "outputs": [
    {
     "data": {
      "text/html": [
       "<div>\n",
       "<style scoped>\n",
       "    .dataframe tbody tr th:only-of-type {\n",
       "        vertical-align: middle;\n",
       "    }\n",
       "\n",
       "    .dataframe tbody tr th {\n",
       "        vertical-align: top;\n",
       "    }\n",
       "\n",
       "    .dataframe thead th {\n",
       "        text-align: right;\n",
       "    }\n",
       "</style>\n",
       "<table border=\"1\" class=\"dataframe\">\n",
       "  <thead>\n",
       "    <tr style=\"text-align: right;\">\n",
       "      <th></th>\n",
       "      <th>Series Title</th>\n",
       "      <th>Release Year</th>\n",
       "      <th>Runtime</th>\n",
       "      <th>Genre</th>\n",
       "      <th>Rating</th>\n",
       "      <th>Cast</th>\n",
       "      <th>Synopsis</th>\n",
       "    </tr>\n",
       "  </thead>\n",
       "  <tbody>\n",
       "    <tr>\n",
       "      <th>0</th>\n",
       "      <td>Wednesday</td>\n",
       "      <td>(2022– )</td>\n",
       "      <td>45 min</td>\n",
       "      <td>Comedy, Crime, Fantasy</td>\n",
       "      <td>8.2</td>\n",
       "      <td>Jenna Ortega, Hunter Doohan, Percy Hynes White...</td>\n",
       "      <td>Follows Wednesday Addams' years as a student, ...</td>\n",
       "    </tr>\n",
       "    <tr>\n",
       "      <th>1</th>\n",
       "      <td>Yellowstone</td>\n",
       "      <td>(2018– )</td>\n",
       "      <td>60 min</td>\n",
       "      <td>Drama, Western</td>\n",
       "      <td>8.7</td>\n",
       "      <td>Kevin Costner, Luke Grimes, Kelly Reilly, Wes ...</td>\n",
       "      <td>A ranching family in Montana faces off against...</td>\n",
       "    </tr>\n",
       "    <tr>\n",
       "      <th>2</th>\n",
       "      <td>The White Lotus</td>\n",
       "      <td>(2021–2023)</td>\n",
       "      <td>60 min</td>\n",
       "      <td>Comedy, Drama</td>\n",
       "      <td>7.9</td>\n",
       "      <td>Jennifer Coolidge, Jon Gries, F. Murray Abraha...</td>\n",
       "      <td>Set in a tropical resort, it follows the explo...</td>\n",
       "    </tr>\n",
       "    <tr>\n",
       "      <th>3</th>\n",
       "      <td>1923</td>\n",
       "      <td>(2022–2023)</td>\n",
       "      <td>60 min</td>\n",
       "      <td>Drama, Western</td>\n",
       "      <td>8.6</td>\n",
       "      <td>Harrison Ford, Helen Mirren, Brandon Sklenar, ...</td>\n",
       "      <td>The Duttons face a new set of challenges in th...</td>\n",
       "    </tr>\n",
       "    <tr>\n",
       "      <th>4</th>\n",
       "      <td>Jack Ryan</td>\n",
       "      <td>(2018– )</td>\n",
       "      <td>60 min</td>\n",
       "      <td>Action, Drama, Thriller</td>\n",
       "      <td>8.0</td>\n",
       "      <td>John Krasinski, Wendell Pierce, Michael Kelly,...</td>\n",
       "      <td>Up-and-coming CIA analyst, Jack Ryan, is thrus...</td>\n",
       "    </tr>\n",
       "  </tbody>\n",
       "</table>\n",
       "</div>"
      ],
      "text/plain": [
       "      Series Title Release Year Runtime                    Genre Rating  \\\n",
       "0        Wednesday     (2022– )  45 min   Comedy, Crime, Fantasy    8.2   \n",
       "1      Yellowstone     (2018– )  60 min           Drama, Western    8.7   \n",
       "2  The White Lotus  (2021–2023)  60 min            Comedy, Drama    7.9   \n",
       "3             1923  (2022–2023)  60 min           Drama, Western    8.6   \n",
       "4        Jack Ryan     (2018– )  60 min  Action, Drama, Thriller    8.0   \n",
       "\n",
       "                                                Cast  \\\n",
       "0  Jenna Ortega, Hunter Doohan, Percy Hynes White...   \n",
       "1  Kevin Costner, Luke Grimes, Kelly Reilly, Wes ...   \n",
       "2  Jennifer Coolidge, Jon Gries, F. Murray Abraha...   \n",
       "3  Harrison Ford, Helen Mirren, Brandon Sklenar, ...   \n",
       "4  John Krasinski, Wendell Pierce, Michael Kelly,...   \n",
       "\n",
       "                                            Synopsis  \n",
       "0  Follows Wednesday Addams' years as a student, ...  \n",
       "1  A ranching family in Montana faces off against...  \n",
       "2  Set in a tropical resort, it follows the explo...  \n",
       "3  The Duttons face a new set of challenges in th...  \n",
       "4  Up-and-coming CIA analyst, Jack Ryan, is thrus...  "
      ]
     },
     "execution_count": 3,
     "metadata": {},
     "output_type": "execute_result"
    }
   ],
   "source": [
    "#Loading the Data in the notebook environment  \n",
    "Data = pd.read_csv(\"/kaggle/input/tv-series/TV Series.csv\")\n",
    "Data.head()"
   ]
  },
  {
   "cell_type": "code",
   "execution_count": 4,
   "id": "642c6a49",
   "metadata": {
    "execution": {
     "iopub.execute_input": "2024-03-20T17:34:35.295194Z",
     "iopub.status.busy": "2024-03-20T17:34:35.292889Z",
     "iopub.status.idle": "2024-03-20T17:34:35.308874Z",
     "shell.execute_reply": "2024-03-20T17:34:35.307715Z"
    },
    "papermill": {
     "duration": 0.034344,
     "end_time": "2024-03-20T17:34:35.311727",
     "exception": false,
     "start_time": "2024-03-20T17:34:35.277383",
     "status": "completed"
    },
    "tags": []
   },
   "outputs": [
    {
     "data": {
      "text/html": [
       "<div>\n",
       "<style scoped>\n",
       "    .dataframe tbody tr th:only-of-type {\n",
       "        vertical-align: middle;\n",
       "    }\n",
       "\n",
       "    .dataframe tbody tr th {\n",
       "        vertical-align: top;\n",
       "    }\n",
       "\n",
       "    .dataframe thead th {\n",
       "        text-align: right;\n",
       "    }\n",
       "</style>\n",
       "<table border=\"1\" class=\"dataframe\">\n",
       "  <thead>\n",
       "    <tr style=\"text-align: right;\">\n",
       "      <th></th>\n",
       "      <th>Series Title</th>\n",
       "      <th>Release Year</th>\n",
       "      <th>Runtime</th>\n",
       "      <th>Genre</th>\n",
       "      <th>Rating</th>\n",
       "      <th>Cast</th>\n",
       "      <th>Synopsis</th>\n",
       "    </tr>\n",
       "  </thead>\n",
       "  <tbody>\n",
       "    <tr>\n",
       "      <th>49995</th>\n",
       "      <td>Law &amp; Order: Special Victims Unit</td>\n",
       "      <td>(1999– )</td>\n",
       "      <td>60 min</td>\n",
       "      <td>Crime, Drama, Mystery</td>\n",
       "      <td>8.1</td>\n",
       "      <td>Mariska Hargitay, Christopher Meloni, Ice-T, D...</td>\n",
       "      <td>This series follows the Special Victims Unit, ...</td>\n",
       "    </tr>\n",
       "    <tr>\n",
       "      <th>49996</th>\n",
       "      <td>Doctor Who</td>\n",
       "      <td>(2005– )</td>\n",
       "      <td>45 min</td>\n",
       "      <td>Adventure, Drama, Sci-Fi</td>\n",
       "      <td>8.6</td>\n",
       "      <td>Jodie Whittaker, Peter Capaldi, Pearl Mackie, ...</td>\n",
       "      <td>The further adventures in time and space of th...</td>\n",
       "    </tr>\n",
       "    <tr>\n",
       "      <th>49997</th>\n",
       "      <td>The Lord of the Rings: The Rings of Power</td>\n",
       "      <td>(2022– )</td>\n",
       "      <td>****</td>\n",
       "      <td>Action, Adventure, Drama</td>\n",
       "      <td>6.9</td>\n",
       "      <td>Morfydd Clark, Ismael Cruz Cordova, Charlie Vi...</td>\n",
       "      <td>Epic drama set thousands of years before the e...</td>\n",
       "    </tr>\n",
       "    <tr>\n",
       "      <th>49998</th>\n",
       "      <td>The Bear</td>\n",
       "      <td>(2022– )</td>\n",
       "      <td>30 min</td>\n",
       "      <td>Comedy, Drama</td>\n",
       "      <td>8.4</td>\n",
       "      <td>Jeremy Allen White, Ebon Moss-Bachrach, Ayo Ed...</td>\n",
       "      <td>A young chef from the fine dining world return...</td>\n",
       "    </tr>\n",
       "    <tr>\n",
       "      <th>49999</th>\n",
       "      <td>Supernatural</td>\n",
       "      <td>(2005–2020)</td>\n",
       "      <td>44 min</td>\n",
       "      <td>Drama, Fantasy, Horror</td>\n",
       "      <td>8.4</td>\n",
       "      <td>Jared Padalecki, Jensen Ackles, Jim Beaver, Mi...</td>\n",
       "      <td>Two brothers follow their father's footsteps a...</td>\n",
       "    </tr>\n",
       "  </tbody>\n",
       "</table>\n",
       "</div>"
      ],
      "text/plain": [
       "                                    Series Title Release Year Runtime  \\\n",
       "49995          Law & Order: Special Victims Unit     (1999– )  60 min   \n",
       "49996                                 Doctor Who     (2005– )  45 min   \n",
       "49997  The Lord of the Rings: The Rings of Power     (2022– )    ****   \n",
       "49998                                   The Bear     (2022– )  30 min   \n",
       "49999                               Supernatural  (2005–2020)  44 min   \n",
       "\n",
       "                          Genre Rating  \\\n",
       "49995     Crime, Drama, Mystery    8.1   \n",
       "49996  Adventure, Drama, Sci-Fi    8.6   \n",
       "49997  Action, Adventure, Drama    6.9   \n",
       "49998             Comedy, Drama    8.4   \n",
       "49999    Drama, Fantasy, Horror    8.4   \n",
       "\n",
       "                                                    Cast  \\\n",
       "49995  Mariska Hargitay, Christopher Meloni, Ice-T, D...   \n",
       "49996  Jodie Whittaker, Peter Capaldi, Pearl Mackie, ...   \n",
       "49997  Morfydd Clark, Ismael Cruz Cordova, Charlie Vi...   \n",
       "49998  Jeremy Allen White, Ebon Moss-Bachrach, Ayo Ed...   \n",
       "49999  Jared Padalecki, Jensen Ackles, Jim Beaver, Mi...   \n",
       "\n",
       "                                                Synopsis  \n",
       "49995  This series follows the Special Victims Unit, ...  \n",
       "49996  The further adventures in time and space of th...  \n",
       "49997  Epic drama set thousands of years before the e...  \n",
       "49998  A young chef from the fine dining world return...  \n",
       "49999  Two brothers follow their father's footsteps a...  "
      ]
     },
     "execution_count": 4,
     "metadata": {},
     "output_type": "execute_result"
    }
   ],
   "source": [
    "Data.tail()"
   ]
  },
  {
   "cell_type": "markdown",
   "id": "79dc172c",
   "metadata": {
    "papermill": {
     "duration": 0.01337,
     "end_time": "2024-03-20T17:34:35.339123",
     "exception": false,
     "start_time": "2024-03-20T17:34:35.325753",
     "status": "completed"
    },
    "tags": []
   },
   "source": [
    "Due too much **large dataset**, and we limited **30GB RAM**. I'm **removing** **10,000** rows because it can't handle this much data.We only take **40,000** rows of data still we have penalty of data for a recommender system.  "
   ]
  },
  {
   "cell_type": "code",
   "execution_count": 5,
   "id": "cb2da1bf",
   "metadata": {
    "execution": {
     "iopub.execute_input": "2024-03-20T17:34:35.368547Z",
     "iopub.status.busy": "2024-03-20T17:34:35.368088Z",
     "iopub.status.idle": "2024-03-20T17:34:35.377169Z",
     "shell.execute_reply": "2024-03-20T17:34:35.375809Z"
    },
    "papermill": {
     "duration": 0.026715,
     "end_time": "2024-03-20T17:34:35.379653",
     "exception": false,
     "start_time": "2024-03-20T17:34:35.352938",
     "status": "completed"
    },
    "tags": []
   },
   "outputs": [],
   "source": [
    "number_of_rows = 40000\n",
    "df1 = Data.iloc[:number_of_rows].reset_index(drop = True)"
   ]
  },
  {
   "cell_type": "code",
   "execution_count": 6,
   "id": "83870f5d",
   "metadata": {
    "execution": {
     "iopub.execute_input": "2024-03-20T17:34:35.409948Z",
     "iopub.status.busy": "2024-03-20T17:34:35.409175Z",
     "iopub.status.idle": "2024-03-20T17:34:35.432258Z",
     "shell.execute_reply": "2024-03-20T17:34:35.431346Z"
    },
    "papermill": {
     "duration": 0.041215,
     "end_time": "2024-03-20T17:34:35.435129",
     "exception": false,
     "start_time": "2024-03-20T17:34:35.393914",
     "status": "completed"
    },
    "tags": []
   },
   "outputs": [
    {
     "data": {
      "text/html": [
       "<div>\n",
       "<style scoped>\n",
       "    .dataframe tbody tr th:only-of-type {\n",
       "        vertical-align: middle;\n",
       "    }\n",
       "\n",
       "    .dataframe tbody tr th {\n",
       "        vertical-align: top;\n",
       "    }\n",
       "\n",
       "    .dataframe thead th {\n",
       "        text-align: right;\n",
       "    }\n",
       "</style>\n",
       "<table border=\"1\" class=\"dataframe\">\n",
       "  <thead>\n",
       "    <tr style=\"text-align: right;\">\n",
       "      <th></th>\n",
       "      <th>Series Title</th>\n",
       "      <th>Release Year</th>\n",
       "      <th>Runtime</th>\n",
       "      <th>Genre</th>\n",
       "      <th>Rating</th>\n",
       "      <th>Cast</th>\n",
       "      <th>Synopsis</th>\n",
       "    </tr>\n",
       "  </thead>\n",
       "  <tbody>\n",
       "    <tr>\n",
       "      <th>0</th>\n",
       "      <td>Wednesday</td>\n",
       "      <td>(2022– )</td>\n",
       "      <td>45 min</td>\n",
       "      <td>Comedy, Crime, Fantasy</td>\n",
       "      <td>8.2</td>\n",
       "      <td>Jenna Ortega, Hunter Doohan, Percy Hynes White...</td>\n",
       "      <td>Follows Wednesday Addams' years as a student, ...</td>\n",
       "    </tr>\n",
       "    <tr>\n",
       "      <th>1</th>\n",
       "      <td>Yellowstone</td>\n",
       "      <td>(2018– )</td>\n",
       "      <td>60 min</td>\n",
       "      <td>Drama, Western</td>\n",
       "      <td>8.7</td>\n",
       "      <td>Kevin Costner, Luke Grimes, Kelly Reilly, Wes ...</td>\n",
       "      <td>A ranching family in Montana faces off against...</td>\n",
       "    </tr>\n",
       "    <tr>\n",
       "      <th>2</th>\n",
       "      <td>The White Lotus</td>\n",
       "      <td>(2021–2023)</td>\n",
       "      <td>60 min</td>\n",
       "      <td>Comedy, Drama</td>\n",
       "      <td>7.9</td>\n",
       "      <td>Jennifer Coolidge, Jon Gries, F. Murray Abraha...</td>\n",
       "      <td>Set in a tropical resort, it follows the explo...</td>\n",
       "    </tr>\n",
       "    <tr>\n",
       "      <th>3</th>\n",
       "      <td>1923</td>\n",
       "      <td>(2022–2023)</td>\n",
       "      <td>60 min</td>\n",
       "      <td>Drama, Western</td>\n",
       "      <td>8.6</td>\n",
       "      <td>Harrison Ford, Helen Mirren, Brandon Sklenar, ...</td>\n",
       "      <td>The Duttons face a new set of challenges in th...</td>\n",
       "    </tr>\n",
       "    <tr>\n",
       "      <th>4</th>\n",
       "      <td>Jack Ryan</td>\n",
       "      <td>(2018– )</td>\n",
       "      <td>60 min</td>\n",
       "      <td>Action, Drama, Thriller</td>\n",
       "      <td>8.0</td>\n",
       "      <td>John Krasinski, Wendell Pierce, Michael Kelly,...</td>\n",
       "      <td>Up-and-coming CIA analyst, Jack Ryan, is thrus...</td>\n",
       "    </tr>\n",
       "    <tr>\n",
       "      <th>...</th>\n",
       "      <td>...</td>\n",
       "      <td>...</td>\n",
       "      <td>...</td>\n",
       "      <td>...</td>\n",
       "      <td>...</td>\n",
       "      <td>...</td>\n",
       "      <td>...</td>\n",
       "    </tr>\n",
       "    <tr>\n",
       "      <th>39995</th>\n",
       "      <td>Law &amp; Order: Special Victims Unit</td>\n",
       "      <td>(1999– )</td>\n",
       "      <td>60 min</td>\n",
       "      <td>Crime, Drama, Mystery</td>\n",
       "      <td>8.1</td>\n",
       "      <td>Mariska Hargitay, Christopher Meloni, Ice-T, D...</td>\n",
       "      <td>This series follows the Special Victims Unit, ...</td>\n",
       "    </tr>\n",
       "    <tr>\n",
       "      <th>39996</th>\n",
       "      <td>Doctor Who</td>\n",
       "      <td>(2005– )</td>\n",
       "      <td>45 min</td>\n",
       "      <td>Adventure, Drama, Sci-Fi</td>\n",
       "      <td>8.6</td>\n",
       "      <td>Jodie Whittaker, Peter Capaldi, Pearl Mackie, ...</td>\n",
       "      <td>The further adventures in time and space of th...</td>\n",
       "    </tr>\n",
       "    <tr>\n",
       "      <th>39997</th>\n",
       "      <td>The Lord of the Rings: The Rings of Power</td>\n",
       "      <td>(2022– )</td>\n",
       "      <td>****</td>\n",
       "      <td>Action, Adventure, Drama</td>\n",
       "      <td>6.9</td>\n",
       "      <td>Morfydd Clark, Ismael Cruz Cordova, Charlie Vi...</td>\n",
       "      <td>Epic drama set thousands of years before the e...</td>\n",
       "    </tr>\n",
       "    <tr>\n",
       "      <th>39998</th>\n",
       "      <td>The Bear</td>\n",
       "      <td>(2022– )</td>\n",
       "      <td>30 min</td>\n",
       "      <td>Comedy, Drama</td>\n",
       "      <td>8.4</td>\n",
       "      <td>Jeremy Allen White, Ebon Moss-Bachrach, Ayo Ed...</td>\n",
       "      <td>A young chef from the fine dining world return...</td>\n",
       "    </tr>\n",
       "    <tr>\n",
       "      <th>39999</th>\n",
       "      <td>Supernatural</td>\n",
       "      <td>(2005–2020)</td>\n",
       "      <td>44 min</td>\n",
       "      <td>Drama, Fantasy, Horror</td>\n",
       "      <td>8.4</td>\n",
       "      <td>Jared Padalecki, Jensen Ackles, Jim Beaver, Mi...</td>\n",
       "      <td>Two brothers follow their father's footsteps a...</td>\n",
       "    </tr>\n",
       "  </tbody>\n",
       "</table>\n",
       "<p>40000 rows × 7 columns</p>\n",
       "</div>"
      ],
      "text/plain": [
       "                                    Series Title Release Year Runtime  \\\n",
       "0                                      Wednesday     (2022– )  45 min   \n",
       "1                                    Yellowstone     (2018– )  60 min   \n",
       "2                                The White Lotus  (2021–2023)  60 min   \n",
       "3                                           1923  (2022–2023)  60 min   \n",
       "4                                      Jack Ryan     (2018– )  60 min   \n",
       "...                                          ...          ...     ...   \n",
       "39995          Law & Order: Special Victims Unit     (1999– )  60 min   \n",
       "39996                                 Doctor Who     (2005– )  45 min   \n",
       "39997  The Lord of the Rings: The Rings of Power     (2022– )    ****   \n",
       "39998                                   The Bear     (2022– )  30 min   \n",
       "39999                               Supernatural  (2005–2020)  44 min   \n",
       "\n",
       "                          Genre Rating  \\\n",
       "0        Comedy, Crime, Fantasy    8.2   \n",
       "1                Drama, Western    8.7   \n",
       "2                 Comedy, Drama    7.9   \n",
       "3                Drama, Western    8.6   \n",
       "4       Action, Drama, Thriller    8.0   \n",
       "...                         ...    ...   \n",
       "39995     Crime, Drama, Mystery    8.1   \n",
       "39996  Adventure, Drama, Sci-Fi    8.6   \n",
       "39997  Action, Adventure, Drama    6.9   \n",
       "39998             Comedy, Drama    8.4   \n",
       "39999    Drama, Fantasy, Horror    8.4   \n",
       "\n",
       "                                                    Cast  \\\n",
       "0      Jenna Ortega, Hunter Doohan, Percy Hynes White...   \n",
       "1      Kevin Costner, Luke Grimes, Kelly Reilly, Wes ...   \n",
       "2      Jennifer Coolidge, Jon Gries, F. Murray Abraha...   \n",
       "3      Harrison Ford, Helen Mirren, Brandon Sklenar, ...   \n",
       "4      John Krasinski, Wendell Pierce, Michael Kelly,...   \n",
       "...                                                  ...   \n",
       "39995  Mariska Hargitay, Christopher Meloni, Ice-T, D...   \n",
       "39996  Jodie Whittaker, Peter Capaldi, Pearl Mackie, ...   \n",
       "39997  Morfydd Clark, Ismael Cruz Cordova, Charlie Vi...   \n",
       "39998  Jeremy Allen White, Ebon Moss-Bachrach, Ayo Ed...   \n",
       "39999  Jared Padalecki, Jensen Ackles, Jim Beaver, Mi...   \n",
       "\n",
       "                                                Synopsis  \n",
       "0      Follows Wednesday Addams' years as a student, ...  \n",
       "1      A ranching family in Montana faces off against...  \n",
       "2      Set in a tropical resort, it follows the explo...  \n",
       "3      The Duttons face a new set of challenges in th...  \n",
       "4      Up-and-coming CIA analyst, Jack Ryan, is thrus...  \n",
       "...                                                  ...  \n",
       "39995  This series follows the Special Victims Unit, ...  \n",
       "39996  The further adventures in time and space of th...  \n",
       "39997  Epic drama set thousands of years before the e...  \n",
       "39998  A young chef from the fine dining world return...  \n",
       "39999  Two brothers follow their father's footsteps a...  \n",
       "\n",
       "[40000 rows x 7 columns]"
      ]
     },
     "execution_count": 6,
     "metadata": {},
     "output_type": "execute_result"
    }
   ],
   "source": [
    "df1"
   ]
  },
  {
   "cell_type": "code",
   "execution_count": 7,
   "id": "210cc8d9",
   "metadata": {
    "execution": {
     "iopub.execute_input": "2024-03-20T17:34:35.465969Z",
     "iopub.status.busy": "2024-03-20T17:34:35.465531Z",
     "iopub.status.idle": "2024-03-20T17:34:35.474232Z",
     "shell.execute_reply": "2024-03-20T17:34:35.473066Z"
    },
    "papermill": {
     "duration": 0.02654,
     "end_time": "2024-03-20T17:34:35.476554",
     "exception": false,
     "start_time": "2024-03-20T17:34:35.450014",
     "status": "completed"
    },
    "tags": []
   },
   "outputs": [],
   "source": [
    "df = df1.copy()"
   ]
  },
  {
   "cell_type": "code",
   "execution_count": 8,
   "id": "de21b937",
   "metadata": {
    "execution": {
     "iopub.execute_input": "2024-03-20T17:34:35.507654Z",
     "iopub.status.busy": "2024-03-20T17:34:35.506666Z",
     "iopub.status.idle": "2024-03-20T17:34:35.549605Z",
     "shell.execute_reply": "2024-03-20T17:34:35.548262Z"
    },
    "papermill": {
     "duration": 0.061604,
     "end_time": "2024-03-20T17:34:35.552257",
     "exception": false,
     "start_time": "2024-03-20T17:34:35.490653",
     "status": "completed"
    },
    "tags": []
   },
   "outputs": [
    {
     "data": {
      "text/plain": [
       "Series Title      0\n",
       "Release Year    200\n",
       "Runtime           0\n",
       "Genre             0\n",
       "Rating            0\n",
       "Cast             91\n",
       "Synopsis          0\n",
       "dtype: int64"
      ]
     },
     "execution_count": 8,
     "metadata": {},
     "output_type": "execute_result"
    }
   ],
   "source": [
    "df.isnull().sum()"
   ]
  },
  {
   "cell_type": "code",
   "execution_count": 9,
   "id": "a1990145",
   "metadata": {
    "execution": {
     "iopub.execute_input": "2024-03-20T17:34:35.584407Z",
     "iopub.status.busy": "2024-03-20T17:34:35.584039Z",
     "iopub.status.idle": "2024-03-20T17:34:35.643576Z",
     "shell.execute_reply": "2024-03-20T17:34:35.642365Z"
    },
    "papermill": {
     "duration": 0.079563,
     "end_time": "2024-03-20T17:34:35.646224",
     "exception": false,
     "start_time": "2024-03-20T17:34:35.566661",
     "status": "completed"
    },
    "tags": []
   },
   "outputs": [
    {
     "name": "stdout",
     "output_type": "stream",
     "text": [
      "<class 'pandas.core.frame.DataFrame'>\n",
      "RangeIndex: 40000 entries, 0 to 39999\n",
      "Data columns (total 7 columns):\n",
      " #   Column        Non-Null Count  Dtype \n",
      "---  ------        --------------  ----- \n",
      " 0   Series Title  40000 non-null  object\n",
      " 1   Release Year  39800 non-null  object\n",
      " 2   Runtime       40000 non-null  object\n",
      " 3   Genre         40000 non-null  object\n",
      " 4   Rating        40000 non-null  object\n",
      " 5   Cast          39909 non-null  object\n",
      " 6   Synopsis      40000 non-null  object\n",
      "dtypes: object(7)\n",
      "memory usage: 2.1+ MB\n"
     ]
    }
   ],
   "source": [
    "df.info()"
   ]
  },
  {
   "cell_type": "code",
   "execution_count": 10,
   "id": "5d9e8d0d",
   "metadata": {
    "execution": {
     "iopub.execute_input": "2024-03-20T17:34:35.678350Z",
     "iopub.status.busy": "2024-03-20T17:34:35.677706Z",
     "iopub.status.idle": "2024-03-20T17:34:35.694165Z",
     "shell.execute_reply": "2024-03-20T17:34:35.692913Z"
    },
    "papermill": {
     "duration": 0.036028,
     "end_time": "2024-03-20T17:34:35.696879",
     "exception": false,
     "start_time": "2024-03-20T17:34:35.660851",
     "status": "completed"
    },
    "tags": []
   },
   "outputs": [
    {
     "data": {
      "text/html": [
       "<div>\n",
       "<style scoped>\n",
       "    .dataframe tbody tr th:only-of-type {\n",
       "        vertical-align: middle;\n",
       "    }\n",
       "\n",
       "    .dataframe tbody tr th {\n",
       "        vertical-align: top;\n",
       "    }\n",
       "\n",
       "    .dataframe thead th {\n",
       "        text-align: right;\n",
       "    }\n",
       "</style>\n",
       "<table border=\"1\" class=\"dataframe\">\n",
       "  <thead>\n",
       "    <tr style=\"text-align: right;\">\n",
       "      <th></th>\n",
       "      <th>Series Title</th>\n",
       "      <th>Release Year</th>\n",
       "      <th>Runtime</th>\n",
       "      <th>Genre</th>\n",
       "      <th>Rating</th>\n",
       "      <th>Cast</th>\n",
       "      <th>Synopsis</th>\n",
       "    </tr>\n",
       "  </thead>\n",
       "  <tbody>\n",
       "    <tr>\n",
       "      <th>0</th>\n",
       "      <td>Wednesday</td>\n",
       "      <td>(2022– )</td>\n",
       "      <td>45 min</td>\n",
       "      <td>Comedy, Crime, Fantasy</td>\n",
       "      <td>8.2</td>\n",
       "      <td>Jenna Ortega, Hunter Doohan, Percy Hynes White...</td>\n",
       "      <td>Follows Wednesday Addams' years as a student, ...</td>\n",
       "    </tr>\n",
       "    <tr>\n",
       "      <th>1</th>\n",
       "      <td>Yellowstone</td>\n",
       "      <td>(2018– )</td>\n",
       "      <td>60 min</td>\n",
       "      <td>Drama, Western</td>\n",
       "      <td>8.7</td>\n",
       "      <td>Kevin Costner, Luke Grimes, Kelly Reilly, Wes ...</td>\n",
       "      <td>A ranching family in Montana faces off against...</td>\n",
       "    </tr>\n",
       "    <tr>\n",
       "      <th>2</th>\n",
       "      <td>The White Lotus</td>\n",
       "      <td>(2021–2023)</td>\n",
       "      <td>60 min</td>\n",
       "      <td>Comedy, Drama</td>\n",
       "      <td>7.9</td>\n",
       "      <td>Jennifer Coolidge, Jon Gries, F. Murray Abraha...</td>\n",
       "      <td>Set in a tropical resort, it follows the explo...</td>\n",
       "    </tr>\n",
       "    <tr>\n",
       "      <th>3</th>\n",
       "      <td>1923</td>\n",
       "      <td>(2022–2023)</td>\n",
       "      <td>60 min</td>\n",
       "      <td>Drama, Western</td>\n",
       "      <td>8.6</td>\n",
       "      <td>Harrison Ford, Helen Mirren, Brandon Sklenar, ...</td>\n",
       "      <td>The Duttons face a new set of challenges in th...</td>\n",
       "    </tr>\n",
       "    <tr>\n",
       "      <th>4</th>\n",
       "      <td>Jack Ryan</td>\n",
       "      <td>(2018– )</td>\n",
       "      <td>60 min</td>\n",
       "      <td>Action, Drama, Thriller</td>\n",
       "      <td>8.0</td>\n",
       "      <td>John Krasinski, Wendell Pierce, Michael Kelly,...</td>\n",
       "      <td>Up-and-coming CIA analyst, Jack Ryan, is thrus...</td>\n",
       "    </tr>\n",
       "    <tr>\n",
       "      <th>...</th>\n",
       "      <td>...</td>\n",
       "      <td>...</td>\n",
       "      <td>...</td>\n",
       "      <td>...</td>\n",
       "      <td>...</td>\n",
       "      <td>...</td>\n",
       "      <td>...</td>\n",
       "    </tr>\n",
       "    <tr>\n",
       "      <th>39995</th>\n",
       "      <td>Law &amp; Order: Special Victims Unit</td>\n",
       "      <td>(1999– )</td>\n",
       "      <td>60 min</td>\n",
       "      <td>Crime, Drama, Mystery</td>\n",
       "      <td>8.1</td>\n",
       "      <td>Mariska Hargitay, Christopher Meloni, Ice-T, D...</td>\n",
       "      <td>This series follows the Special Victims Unit, ...</td>\n",
       "    </tr>\n",
       "    <tr>\n",
       "      <th>39996</th>\n",
       "      <td>Doctor Who</td>\n",
       "      <td>(2005– )</td>\n",
       "      <td>45 min</td>\n",
       "      <td>Adventure, Drama, Sci-Fi</td>\n",
       "      <td>8.6</td>\n",
       "      <td>Jodie Whittaker, Peter Capaldi, Pearl Mackie, ...</td>\n",
       "      <td>The further adventures in time and space of th...</td>\n",
       "    </tr>\n",
       "    <tr>\n",
       "      <th>39997</th>\n",
       "      <td>The Lord of the Rings: The Rings of Power</td>\n",
       "      <td>(2022– )</td>\n",
       "      <td>****</td>\n",
       "      <td>Action, Adventure, Drama</td>\n",
       "      <td>6.9</td>\n",
       "      <td>Morfydd Clark, Ismael Cruz Cordova, Charlie Vi...</td>\n",
       "      <td>Epic drama set thousands of years before the e...</td>\n",
       "    </tr>\n",
       "    <tr>\n",
       "      <th>39998</th>\n",
       "      <td>The Bear</td>\n",
       "      <td>(2022– )</td>\n",
       "      <td>30 min</td>\n",
       "      <td>Comedy, Drama</td>\n",
       "      <td>8.4</td>\n",
       "      <td>Jeremy Allen White, Ebon Moss-Bachrach, Ayo Ed...</td>\n",
       "      <td>A young chef from the fine dining world return...</td>\n",
       "    </tr>\n",
       "    <tr>\n",
       "      <th>39999</th>\n",
       "      <td>Supernatural</td>\n",
       "      <td>(2005–2020)</td>\n",
       "      <td>44 min</td>\n",
       "      <td>Drama, Fantasy, Horror</td>\n",
       "      <td>8.4</td>\n",
       "      <td>Jared Padalecki, Jensen Ackles, Jim Beaver, Mi...</td>\n",
       "      <td>Two brothers follow their father's footsteps a...</td>\n",
       "    </tr>\n",
       "  </tbody>\n",
       "</table>\n",
       "<p>40000 rows × 7 columns</p>\n",
       "</div>"
      ],
      "text/plain": [
       "                                    Series Title Release Year Runtime  \\\n",
       "0                                      Wednesday     (2022– )  45 min   \n",
       "1                                    Yellowstone     (2018– )  60 min   \n",
       "2                                The White Lotus  (2021–2023)  60 min   \n",
       "3                                           1923  (2022–2023)  60 min   \n",
       "4                                      Jack Ryan     (2018– )  60 min   \n",
       "...                                          ...          ...     ...   \n",
       "39995          Law & Order: Special Victims Unit     (1999– )  60 min   \n",
       "39996                                 Doctor Who     (2005– )  45 min   \n",
       "39997  The Lord of the Rings: The Rings of Power     (2022– )    ****   \n",
       "39998                                   The Bear     (2022– )  30 min   \n",
       "39999                               Supernatural  (2005–2020)  44 min   \n",
       "\n",
       "                          Genre Rating  \\\n",
       "0        Comedy, Crime, Fantasy    8.2   \n",
       "1                Drama, Western    8.7   \n",
       "2                 Comedy, Drama    7.9   \n",
       "3                Drama, Western    8.6   \n",
       "4       Action, Drama, Thriller    8.0   \n",
       "...                         ...    ...   \n",
       "39995     Crime, Drama, Mystery    8.1   \n",
       "39996  Adventure, Drama, Sci-Fi    8.6   \n",
       "39997  Action, Adventure, Drama    6.9   \n",
       "39998             Comedy, Drama    8.4   \n",
       "39999    Drama, Fantasy, Horror    8.4   \n",
       "\n",
       "                                                    Cast  \\\n",
       "0      Jenna Ortega, Hunter Doohan, Percy Hynes White...   \n",
       "1      Kevin Costner, Luke Grimes, Kelly Reilly, Wes ...   \n",
       "2      Jennifer Coolidge, Jon Gries, F. Murray Abraha...   \n",
       "3      Harrison Ford, Helen Mirren, Brandon Sklenar, ...   \n",
       "4      John Krasinski, Wendell Pierce, Michael Kelly,...   \n",
       "...                                                  ...   \n",
       "39995  Mariska Hargitay, Christopher Meloni, Ice-T, D...   \n",
       "39996  Jodie Whittaker, Peter Capaldi, Pearl Mackie, ...   \n",
       "39997  Morfydd Clark, Ismael Cruz Cordova, Charlie Vi...   \n",
       "39998  Jeremy Allen White, Ebon Moss-Bachrach, Ayo Ed...   \n",
       "39999  Jared Padalecki, Jensen Ackles, Jim Beaver, Mi...   \n",
       "\n",
       "                                                Synopsis  \n",
       "0      Follows Wednesday Addams' years as a student, ...  \n",
       "1      A ranching family in Montana faces off against...  \n",
       "2      Set in a tropical resort, it follows the explo...  \n",
       "3      The Duttons face a new set of challenges in th...  \n",
       "4      Up-and-coming CIA analyst, Jack Ryan, is thrus...  \n",
       "...                                                  ...  \n",
       "39995  This series follows the Special Victims Unit, ...  \n",
       "39996  The further adventures in time and space of th...  \n",
       "39997  Epic drama set thousands of years before the e...  \n",
       "39998  A young chef from the fine dining world return...  \n",
       "39999  Two brothers follow their father's footsteps a...  \n",
       "\n",
       "[40000 rows x 7 columns]"
      ]
     },
     "execution_count": 10,
     "metadata": {},
     "output_type": "execute_result"
    }
   ],
   "source": [
    "df"
   ]
  },
  {
   "cell_type": "markdown",
   "id": "e5cae48f",
   "metadata": {
    "papermill": {
     "duration": 0.014947,
     "end_time": "2024-03-20T17:34:35.727332",
     "exception": false,
     "start_time": "2024-03-20T17:34:35.712385",
     "status": "completed"
    },
    "tags": []
   },
   "source": [
    "Now we are slpiting the words in columns (**Synopsis,Cast, Genre**) ,and creating a list of words. this process help us in **Content-Based recommender system**. This words fruther used as **tags**."
   ]
  },
  {
   "cell_type": "code",
   "execution_count": 11,
   "id": "80e3abd5",
   "metadata": {
    "execution": {
     "iopub.execute_input": "2024-03-20T17:34:35.761970Z",
     "iopub.status.busy": "2024-03-20T17:34:35.761522Z",
     "iopub.status.idle": "2024-03-20T17:34:35.967129Z",
     "shell.execute_reply": "2024-03-20T17:34:35.966020Z"
    },
    "papermill": {
     "duration": 0.22623,
     "end_time": "2024-03-20T17:34:35.969751",
     "exception": false,
     "start_time": "2024-03-20T17:34:35.743521",
     "status": "completed"
    },
    "tags": []
   },
   "outputs": [
    {
     "data": {
      "text/html": [
       "<div>\n",
       "<style scoped>\n",
       "    .dataframe tbody tr th:only-of-type {\n",
       "        vertical-align: middle;\n",
       "    }\n",
       "\n",
       "    .dataframe tbody tr th {\n",
       "        vertical-align: top;\n",
       "    }\n",
       "\n",
       "    .dataframe thead th {\n",
       "        text-align: right;\n",
       "    }\n",
       "</style>\n",
       "<table border=\"1\" class=\"dataframe\">\n",
       "  <thead>\n",
       "    <tr style=\"text-align: right;\">\n",
       "      <th></th>\n",
       "      <th>Series Title</th>\n",
       "      <th>Release Year</th>\n",
       "      <th>Runtime</th>\n",
       "      <th>Genre</th>\n",
       "      <th>Rating</th>\n",
       "      <th>Cast</th>\n",
       "      <th>Synopsis</th>\n",
       "    </tr>\n",
       "  </thead>\n",
       "  <tbody>\n",
       "    <tr>\n",
       "      <th>0</th>\n",
       "      <td>Wednesday</td>\n",
       "      <td>(2022– )</td>\n",
       "      <td>45 min</td>\n",
       "      <td>Comedy, Crime, Fantasy</td>\n",
       "      <td>8.2</td>\n",
       "      <td>Jenna Ortega, Hunter Doohan, Percy Hynes White...</td>\n",
       "      <td>[Follows, Wednesday, Addams', years, as, a, st...</td>\n",
       "    </tr>\n",
       "    <tr>\n",
       "      <th>1</th>\n",
       "      <td>Yellowstone</td>\n",
       "      <td>(2018– )</td>\n",
       "      <td>60 min</td>\n",
       "      <td>Drama, Western</td>\n",
       "      <td>8.7</td>\n",
       "      <td>Kevin Costner, Luke Grimes, Kelly Reilly, Wes ...</td>\n",
       "      <td>[A, ranching, family, in, Montana, faces, off,...</td>\n",
       "    </tr>\n",
       "    <tr>\n",
       "      <th>2</th>\n",
       "      <td>The White Lotus</td>\n",
       "      <td>(2021–2023)</td>\n",
       "      <td>60 min</td>\n",
       "      <td>Comedy, Drama</td>\n",
       "      <td>7.9</td>\n",
       "      <td>Jennifer Coolidge, Jon Gries, F. Murray Abraha...</td>\n",
       "      <td>[Set, in, a, tropical, resort,, it, follows, t...</td>\n",
       "    </tr>\n",
       "    <tr>\n",
       "      <th>3</th>\n",
       "      <td>1923</td>\n",
       "      <td>(2022–2023)</td>\n",
       "      <td>60 min</td>\n",
       "      <td>Drama, Western</td>\n",
       "      <td>8.6</td>\n",
       "      <td>Harrison Ford, Helen Mirren, Brandon Sklenar, ...</td>\n",
       "      <td>[The, Duttons, face, a, new, set, of, challeng...</td>\n",
       "    </tr>\n",
       "    <tr>\n",
       "      <th>4</th>\n",
       "      <td>Jack Ryan</td>\n",
       "      <td>(2018– )</td>\n",
       "      <td>60 min</td>\n",
       "      <td>Action, Drama, Thriller</td>\n",
       "      <td>8.0</td>\n",
       "      <td>John Krasinski, Wendell Pierce, Michael Kelly,...</td>\n",
       "      <td>[Up-and-coming, CIA, analyst,, Jack, Ryan,, is...</td>\n",
       "    </tr>\n",
       "  </tbody>\n",
       "</table>\n",
       "</div>"
      ],
      "text/plain": [
       "      Series Title Release Year Runtime                    Genre Rating  \\\n",
       "0        Wednesday     (2022– )  45 min   Comedy, Crime, Fantasy    8.2   \n",
       "1      Yellowstone     (2018– )  60 min           Drama, Western    8.7   \n",
       "2  The White Lotus  (2021–2023)  60 min            Comedy, Drama    7.9   \n",
       "3             1923  (2022–2023)  60 min           Drama, Western    8.6   \n",
       "4        Jack Ryan     (2018– )  60 min  Action, Drama, Thriller    8.0   \n",
       "\n",
       "                                                Cast  \\\n",
       "0  Jenna Ortega, Hunter Doohan, Percy Hynes White...   \n",
       "1  Kevin Costner, Luke Grimes, Kelly Reilly, Wes ...   \n",
       "2  Jennifer Coolidge, Jon Gries, F. Murray Abraha...   \n",
       "3  Harrison Ford, Helen Mirren, Brandon Sklenar, ...   \n",
       "4  John Krasinski, Wendell Pierce, Michael Kelly,...   \n",
       "\n",
       "                                            Synopsis  \n",
       "0  [Follows, Wednesday, Addams', years, as, a, st...  \n",
       "1  [A, ranching, family, in, Montana, faces, off,...  \n",
       "2  [Set, in, a, tropical, resort,, it, follows, t...  \n",
       "3  [The, Duttons, face, a, new, set, of, challeng...  \n",
       "4  [Up-and-coming, CIA, analyst,, Jack, Ryan,, is...  "
      ]
     },
     "execution_count": 11,
     "metadata": {},
     "output_type": "execute_result"
    }
   ],
   "source": [
    "df['Synopsis'] = df['Synopsis'].apply(lambda x:x.split())\n",
    "df.head()"
   ]
  },
  {
   "cell_type": "code",
   "execution_count": 12,
   "id": "30c241c9",
   "metadata": {
    "execution": {
     "iopub.execute_input": "2024-03-20T17:34:36.002275Z",
     "iopub.status.busy": "2024-03-20T17:34:36.001865Z",
     "iopub.status.idle": "2024-03-20T17:34:36.088030Z",
     "shell.execute_reply": "2024-03-20T17:34:36.086753Z"
    },
    "papermill": {
     "duration": 0.105643,
     "end_time": "2024-03-20T17:34:36.090883",
     "exception": false,
     "start_time": "2024-03-20T17:34:35.985240",
     "status": "completed"
    },
    "tags": []
   },
   "outputs": [],
   "source": [
    "df['Cast'].fillna('', inplace = True)\n",
    "df['Cast'] = df['Cast'].apply(lambda x:x.split() if x else x)"
   ]
  },
  {
   "cell_type": "code",
   "execution_count": 13,
   "id": "2a8e296e",
   "metadata": {
    "execution": {
     "iopub.execute_input": "2024-03-20T17:34:36.123944Z",
     "iopub.status.busy": "2024-03-20T17:34:36.123492Z",
     "iopub.status.idle": "2024-03-20T17:34:36.291316Z",
     "shell.execute_reply": "2024-03-20T17:34:36.289879Z"
    },
    "papermill": {
     "duration": 0.187533,
     "end_time": "2024-03-20T17:34:36.294169",
     "exception": false,
     "start_time": "2024-03-20T17:34:36.106636",
     "status": "completed"
    },
    "tags": []
   },
   "outputs": [],
   "source": [
    "df['Genre'] = df['Genre'].apply(lambda x:x.split())"
   ]
  },
  {
   "cell_type": "code",
   "execution_count": 14,
   "id": "16073767",
   "metadata": {
    "execution": {
     "iopub.execute_input": "2024-03-20T17:34:36.327311Z",
     "iopub.status.busy": "2024-03-20T17:34:36.326607Z",
     "iopub.status.idle": "2024-03-20T17:34:36.348068Z",
     "shell.execute_reply": "2024-03-20T17:34:36.346974Z"
    },
    "papermill": {
     "duration": 0.041119,
     "end_time": "2024-03-20T17:34:36.350967",
     "exception": false,
     "start_time": "2024-03-20T17:34:36.309848",
     "status": "completed"
    },
    "tags": []
   },
   "outputs": [
    {
     "data": {
      "text/html": [
       "<div>\n",
       "<style scoped>\n",
       "    .dataframe tbody tr th:only-of-type {\n",
       "        vertical-align: middle;\n",
       "    }\n",
       "\n",
       "    .dataframe tbody tr th {\n",
       "        vertical-align: top;\n",
       "    }\n",
       "\n",
       "    .dataframe thead th {\n",
       "        text-align: right;\n",
       "    }\n",
       "</style>\n",
       "<table border=\"1\" class=\"dataframe\">\n",
       "  <thead>\n",
       "    <tr style=\"text-align: right;\">\n",
       "      <th></th>\n",
       "      <th>Series Title</th>\n",
       "      <th>Release Year</th>\n",
       "      <th>Runtime</th>\n",
       "      <th>Genre</th>\n",
       "      <th>Rating</th>\n",
       "      <th>Cast</th>\n",
       "      <th>Synopsis</th>\n",
       "    </tr>\n",
       "  </thead>\n",
       "  <tbody>\n",
       "    <tr>\n",
       "      <th>0</th>\n",
       "      <td>Wednesday</td>\n",
       "      <td>(2022– )</td>\n",
       "      <td>45 min</td>\n",
       "      <td>[Comedy,, Crime,, Fantasy]</td>\n",
       "      <td>8.2</td>\n",
       "      <td>[Jenna, Ortega,, Hunter, Doohan,, Percy, Hynes...</td>\n",
       "      <td>[Follows, Wednesday, Addams', years, as, a, st...</td>\n",
       "    </tr>\n",
       "    <tr>\n",
       "      <th>1</th>\n",
       "      <td>Yellowstone</td>\n",
       "      <td>(2018– )</td>\n",
       "      <td>60 min</td>\n",
       "      <td>[Drama,, Western]</td>\n",
       "      <td>8.7</td>\n",
       "      <td>[Kevin, Costner,, Luke, Grimes,, Kelly, Reilly...</td>\n",
       "      <td>[A, ranching, family, in, Montana, faces, off,...</td>\n",
       "    </tr>\n",
       "    <tr>\n",
       "      <th>2</th>\n",
       "      <td>The White Lotus</td>\n",
       "      <td>(2021–2023)</td>\n",
       "      <td>60 min</td>\n",
       "      <td>[Comedy,, Drama]</td>\n",
       "      <td>7.9</td>\n",
       "      <td>[Jennifer, Coolidge,, Jon, Gries,, F., Murray,...</td>\n",
       "      <td>[Set, in, a, tropical, resort,, it, follows, t...</td>\n",
       "    </tr>\n",
       "    <tr>\n",
       "      <th>3</th>\n",
       "      <td>1923</td>\n",
       "      <td>(2022–2023)</td>\n",
       "      <td>60 min</td>\n",
       "      <td>[Drama,, Western]</td>\n",
       "      <td>8.6</td>\n",
       "      <td>[Harrison, Ford,, Helen, Mirren,, Brandon, Skl...</td>\n",
       "      <td>[The, Duttons, face, a, new, set, of, challeng...</td>\n",
       "    </tr>\n",
       "    <tr>\n",
       "      <th>4</th>\n",
       "      <td>Jack Ryan</td>\n",
       "      <td>(2018– )</td>\n",
       "      <td>60 min</td>\n",
       "      <td>[Action,, Drama,, Thriller]</td>\n",
       "      <td>8.0</td>\n",
       "      <td>[John, Krasinski,, Wendell, Pierce,, Michael, ...</td>\n",
       "      <td>[Up-and-coming, CIA, analyst,, Jack, Ryan,, is...</td>\n",
       "    </tr>\n",
       "  </tbody>\n",
       "</table>\n",
       "</div>"
      ],
      "text/plain": [
       "      Series Title Release Year Runtime                        Genre Rating  \\\n",
       "0        Wednesday     (2022– )  45 min   [Comedy,, Crime,, Fantasy]    8.2   \n",
       "1      Yellowstone     (2018– )  60 min            [Drama,, Western]    8.7   \n",
       "2  The White Lotus  (2021–2023)  60 min             [Comedy,, Drama]    7.9   \n",
       "3             1923  (2022–2023)  60 min            [Drama,, Western]    8.6   \n",
       "4        Jack Ryan     (2018– )  60 min  [Action,, Drama,, Thriller]    8.0   \n",
       "\n",
       "                                                Cast  \\\n",
       "0  [Jenna, Ortega,, Hunter, Doohan,, Percy, Hynes...   \n",
       "1  [Kevin, Costner,, Luke, Grimes,, Kelly, Reilly...   \n",
       "2  [Jennifer, Coolidge,, Jon, Gries,, F., Murray,...   \n",
       "3  [Harrison, Ford,, Helen, Mirren,, Brandon, Skl...   \n",
       "4  [John, Krasinski,, Wendell, Pierce,, Michael, ...   \n",
       "\n",
       "                                            Synopsis  \n",
       "0  [Follows, Wednesday, Addams', years, as, a, st...  \n",
       "1  [A, ranching, family, in, Montana, faces, off,...  \n",
       "2  [Set, in, a, tropical, resort,, it, follows, t...  \n",
       "3  [The, Duttons, face, a, new, set, of, challeng...  \n",
       "4  [Up-and-coming, CIA, analyst,, Jack, Ryan,, is...  "
      ]
     },
     "execution_count": 14,
     "metadata": {},
     "output_type": "execute_result"
    }
   ],
   "source": [
    "df.head()"
   ]
  },
  {
   "cell_type": "code",
   "execution_count": 15,
   "id": "d0f3b777",
   "metadata": {
    "execution": {
     "iopub.execute_input": "2024-03-20T17:34:36.386343Z",
     "iopub.status.busy": "2024-03-20T17:34:36.384370Z",
     "iopub.status.idle": "2024-03-20T17:34:36.642926Z",
     "shell.execute_reply": "2024-03-20T17:34:36.642084Z"
    },
    "papermill": {
     "duration": 0.278329,
     "end_time": "2024-03-20T17:34:36.645456",
     "exception": false,
     "start_time": "2024-03-20T17:34:36.367127",
     "status": "completed"
    },
    "tags": []
   },
   "outputs": [
    {
     "data": {
      "text/plain": [
       "0        ['Comedy,', 'Crime,', 'Fantasy'] ['Follows', '...\n",
       "1        ['Drama,', 'Western'] ['A', 'ranching', 'famil...\n",
       "2        ['Comedy,', 'Drama'] ['Set', 'in', 'a', 'tropi...\n",
       "3        ['Drama,', 'Western'] ['The', 'Duttons', 'face...\n",
       "4        ['Action,', 'Drama,', 'Thriller'] ['Up-and-com...\n",
       "                               ...                        \n",
       "39995    ['Crime,', 'Drama,', 'Mystery'] ['This', 'seri...\n",
       "39996    ['Adventure,', 'Drama,', 'Sci-Fi'] ['The', 'fu...\n",
       "39997    ['Action,', 'Adventure,', 'Drama'] ['Epic', 'd...\n",
       "39998    ['Comedy,', 'Drama'] ['A', 'young', 'chef', 'f...\n",
       "39999    ['Drama,', 'Fantasy,', 'Horror'] ['Two', 'brot...\n",
       "Name: tag, Length: 40000, dtype: object"
      ]
     },
     "execution_count": 15,
     "metadata": {},
     "output_type": "execute_result"
    }
   ],
   "source": [
    "#All three columns (Synopsis,Cast, Genre) combining in one column named as tag.\n",
    "df['tag'] = [' '.join(map(str, [g, s])) for g, s in zip(df['Genre'], df['Synopsis'])]\n",
    "df['tag']"
   ]
  },
  {
   "cell_type": "code",
   "execution_count": 16,
   "id": "c84b94de",
   "metadata": {
    "execution": {
     "iopub.execute_input": "2024-03-20T17:34:36.678833Z",
     "iopub.status.busy": "2024-03-20T17:34:36.678424Z",
     "iopub.status.idle": "2024-03-20T17:34:36.694469Z",
     "shell.execute_reply": "2024-03-20T17:34:36.693304Z"
    },
    "papermill": {
     "duration": 0.035802,
     "end_time": "2024-03-20T17:34:36.696966",
     "exception": false,
     "start_time": "2024-03-20T17:34:36.661164",
     "status": "completed"
    },
    "tags": []
   },
   "outputs": [
    {
     "data": {
      "text/html": [
       "<div>\n",
       "<style scoped>\n",
       "    .dataframe tbody tr th:only-of-type {\n",
       "        vertical-align: middle;\n",
       "    }\n",
       "\n",
       "    .dataframe tbody tr th {\n",
       "        vertical-align: top;\n",
       "    }\n",
       "\n",
       "    .dataframe thead th {\n",
       "        text-align: right;\n",
       "    }\n",
       "</style>\n",
       "<table border=\"1\" class=\"dataframe\">\n",
       "  <thead>\n",
       "    <tr style=\"text-align: right;\">\n",
       "      <th></th>\n",
       "      <th>Series Title</th>\n",
       "      <th>tag</th>\n",
       "    </tr>\n",
       "  </thead>\n",
       "  <tbody>\n",
       "    <tr>\n",
       "      <th>0</th>\n",
       "      <td>Wednesday</td>\n",
       "      <td>['Comedy,', 'Crime,', 'Fantasy'] ['Follows', '...</td>\n",
       "    </tr>\n",
       "    <tr>\n",
       "      <th>1</th>\n",
       "      <td>Yellowstone</td>\n",
       "      <td>['Drama,', 'Western'] ['A', 'ranching', 'famil...</td>\n",
       "    </tr>\n",
       "    <tr>\n",
       "      <th>2</th>\n",
       "      <td>The White Lotus</td>\n",
       "      <td>['Comedy,', 'Drama'] ['Set', 'in', 'a', 'tropi...</td>\n",
       "    </tr>\n",
       "    <tr>\n",
       "      <th>3</th>\n",
       "      <td>1923</td>\n",
       "      <td>['Drama,', 'Western'] ['The', 'Duttons', 'face...</td>\n",
       "    </tr>\n",
       "    <tr>\n",
       "      <th>4</th>\n",
       "      <td>Jack Ryan</td>\n",
       "      <td>['Action,', 'Drama,', 'Thriller'] ['Up-and-com...</td>\n",
       "    </tr>\n",
       "  </tbody>\n",
       "</table>\n",
       "</div>"
      ],
      "text/plain": [
       "      Series Title                                                tag\n",
       "0        Wednesday  ['Comedy,', 'Crime,', 'Fantasy'] ['Follows', '...\n",
       "1      Yellowstone  ['Drama,', 'Western'] ['A', 'ranching', 'famil...\n",
       "2  The White Lotus  ['Comedy,', 'Drama'] ['Set', 'in', 'a', 'tropi...\n",
       "3             1923  ['Drama,', 'Western'] ['The', 'Duttons', 'face...\n",
       "4        Jack Ryan  ['Action,', 'Drama,', 'Thriller'] ['Up-and-com..."
      ]
     },
     "execution_count": 16,
     "metadata": {},
     "output_type": "execute_result"
    }
   ],
   "source": [
    "#Creating a new Data Frame name Series to store the Series Title and Tags .\n",
    "Series = df[['Series Title','tag']]\n",
    "Series.head()"
   ]
  },
  {
   "cell_type": "markdown",
   "id": "b6ffcf05",
   "metadata": {
    "papermill": {
     "duration": 0.015651,
     "end_time": "2024-03-20T17:34:36.728917",
     "exception": false,
     "start_time": "2024-03-20T17:34:36.713266",
     "status": "completed"
    },
    "tags": []
   },
   "source": [
    "Now in next some step we refine the tag column, **removing** the different **punctuation** betwwen the words."
   ]
  },
  {
   "cell_type": "code",
   "execution_count": 17,
   "id": "ac3355d5",
   "metadata": {
    "execution": {
     "iopub.execute_input": "2024-03-20T17:34:36.764940Z",
     "iopub.status.busy": "2024-03-20T17:34:36.764545Z",
     "iopub.status.idle": "2024-03-20T17:34:37.182723Z",
     "shell.execute_reply": "2024-03-20T17:34:37.181725Z"
    },
    "papermill": {
     "duration": 0.438578,
     "end_time": "2024-03-20T17:34:37.185512",
     "exception": false,
     "start_time": "2024-03-20T17:34:36.746934",
     "status": "completed"
    },
    "tags": []
   },
   "outputs": [],
   "source": [
    "Series['tag'] = df['tag'].apply(lambda x:\"\".join(x))"
   ]
  },
  {
   "cell_type": "code",
   "execution_count": 18,
   "id": "657721ed",
   "metadata": {
    "execution": {
     "iopub.execute_input": "2024-03-20T17:34:37.219182Z",
     "iopub.status.busy": "2024-03-20T17:34:37.218803Z",
     "iopub.status.idle": "2024-03-20T17:34:37.225594Z",
     "shell.execute_reply": "2024-03-20T17:34:37.224485Z"
    },
    "papermill": {
     "duration": 0.026853,
     "end_time": "2024-03-20T17:34:37.228351",
     "exception": false,
     "start_time": "2024-03-20T17:34:37.201498",
     "status": "completed"
    },
    "tags": []
   },
   "outputs": [
    {
     "data": {
      "text/plain": [
       "'[\\'Comedy,\\', \\'Crime,\\', \\'Fantasy\\'] [\\'Follows\\', \\'Wednesday\\', \"Addams\\'\", \\'years\\', \\'as\\', \\'a\\', \\'student,\\', \\'when\\', \\'she\\', \\'attempts\\', \\'to\\', \\'master\\', \\'her\\', \\'emerging\\', \\'psychic\\', \\'ability,\\', \\'thwart\\', \\'and\\', \\'solve\\', \\'the\\', \\'mystery\\', \\'that\\', \\'embroiled\\', \\'her\\', \\'parents.\\']'"
      ]
     },
     "execution_count": 18,
     "metadata": {},
     "output_type": "execute_result"
    }
   ],
   "source": [
    "Series['tag'][0]"
   ]
  },
  {
   "cell_type": "code",
   "execution_count": 19,
   "id": "5c4d2d5d",
   "metadata": {
    "execution": {
     "iopub.execute_input": "2024-03-20T17:34:37.264501Z",
     "iopub.status.busy": "2024-03-20T17:34:37.264119Z",
     "iopub.status.idle": "2024-03-20T17:34:37.820640Z",
     "shell.execute_reply": "2024-03-20T17:34:37.819351Z"
    },
    "papermill": {
     "duration": 0.577801,
     "end_time": "2024-03-20T17:34:37.823521",
     "exception": false,
     "start_time": "2024-03-20T17:34:37.245720",
     "status": "completed"
    },
    "tags": []
   },
   "outputs": [],
   "source": [
    "#Using replace dunction ,removing the punctuation and adding space at there place.\n",
    "for column in df.columns:\n",
    "    Series['tag'] = Series['tag'].apply(lambda x: str(x).replace('[', '').replace(']', '').replace('\\'', '').replace(',', ''))"
   ]
  },
  {
   "cell_type": "code",
   "execution_count": 20,
   "id": "8b282024",
   "metadata": {
    "execution": {
     "iopub.execute_input": "2024-03-20T17:34:37.859067Z",
     "iopub.status.busy": "2024-03-20T17:34:37.858660Z",
     "iopub.status.idle": "2024-03-20T17:34:37.864498Z",
     "shell.execute_reply": "2024-03-20T17:34:37.863241Z"
    },
    "papermill": {
     "duration": 0.026726,
     "end_time": "2024-03-20T17:34:37.867087",
     "exception": false,
     "start_time": "2024-03-20T17:34:37.840361",
     "status": "completed"
    },
    "tags": []
   },
   "outputs": [],
   "source": [
    "#In above shell we can see addams is between  the double inverted commas, removing these inverted commas\n",
    "Series['tag'][0] = Series['tag'][0].replace('\"Addams\"', 'Addams')"
   ]
  },
  {
   "cell_type": "code",
   "execution_count": 21,
   "id": "0b5e4e20",
   "metadata": {
    "execution": {
     "iopub.execute_input": "2024-03-20T17:34:37.902634Z",
     "iopub.status.busy": "2024-03-20T17:34:37.902259Z",
     "iopub.status.idle": "2024-03-20T17:34:37.909247Z",
     "shell.execute_reply": "2024-03-20T17:34:37.907965Z"
    },
    "papermill": {
     "duration": 0.028248,
     "end_time": "2024-03-20T17:34:37.911705",
     "exception": false,
     "start_time": "2024-03-20T17:34:37.883457",
     "status": "completed"
    },
    "tags": []
   },
   "outputs": [
    {
     "data": {
      "text/plain": [
       "'Comedy Crime Fantasy Follows Wednesday Addams years as a student when she attempts to master her emerging psychic ability thwart and solve the mystery that embroiled her parents.'"
      ]
     },
     "execution_count": 21,
     "metadata": {},
     "output_type": "execute_result"
    }
   ],
   "source": [
    "#Now the tag column is ready.\n",
    "Series['tag'][0]"
   ]
  },
  {
   "cell_type": "code",
   "execution_count": 22,
   "id": "11f1a438",
   "metadata": {
    "execution": {
     "iopub.execute_input": "2024-03-20T17:34:37.947603Z",
     "iopub.status.busy": "2024-03-20T17:34:37.946918Z",
     "iopub.status.idle": "2024-03-20T17:34:37.982318Z",
     "shell.execute_reply": "2024-03-20T17:34:37.981502Z"
    },
    "papermill": {
     "duration": 0.056403,
     "end_time": "2024-03-20T17:34:37.984504",
     "exception": false,
     "start_time": "2024-03-20T17:34:37.928101",
     "status": "completed"
    },
    "tags": []
   },
   "outputs": [
    {
     "data": {
      "text/plain": [
       "'comedy crime fantasy follows wednesday addams years as a student when she attempts to master her emerging psychic ability thwart and solve the mystery that embroiled her parents.'"
      ]
     },
     "execution_count": 22,
     "metadata": {},
     "output_type": "execute_result"
    }
   ],
   "source": [
    "#Converting the capital letters into the lower case.\n",
    "Series['tag']= Series['tag'].apply(lambda x:x.lower())\n",
    "Series['tag'][0]"
   ]
  },
  {
   "cell_type": "code",
   "execution_count": 23,
   "id": "74c92089",
   "metadata": {
    "execution": {
     "iopub.execute_input": "2024-03-20T17:34:38.019650Z",
     "iopub.status.busy": "2024-03-20T17:34:38.018975Z",
     "iopub.status.idle": "2024-03-20T17:34:38.028663Z",
     "shell.execute_reply": "2024-03-20T17:34:38.027337Z"
    },
    "papermill": {
     "duration": 0.030451,
     "end_time": "2024-03-20T17:34:38.031432",
     "exception": false,
     "start_time": "2024-03-20T17:34:38.000981",
     "status": "completed"
    },
    "tags": []
   },
   "outputs": [],
   "source": [
    "#Renaming the column name from Series Title to Title\n",
    "Series = Series.rename(columns={'Series Title':'Title'})"
   ]
  },
  {
   "cell_type": "code",
   "execution_count": 24,
   "id": "f208d1ee",
   "metadata": {
    "execution": {
     "iopub.execute_input": "2024-03-20T17:34:38.066748Z",
     "iopub.status.busy": "2024-03-20T17:34:38.065978Z",
     "iopub.status.idle": "2024-03-20T17:34:38.076187Z",
     "shell.execute_reply": "2024-03-20T17:34:38.075372Z"
    },
    "papermill": {
     "duration": 0.03026,
     "end_time": "2024-03-20T17:34:38.078359",
     "exception": false,
     "start_time": "2024-03-20T17:34:38.048099",
     "status": "completed"
    },
    "tags": []
   },
   "outputs": [
    {
     "data": {
      "text/html": [
       "<div>\n",
       "<style scoped>\n",
       "    .dataframe tbody tr th:only-of-type {\n",
       "        vertical-align: middle;\n",
       "    }\n",
       "\n",
       "    .dataframe tbody tr th {\n",
       "        vertical-align: top;\n",
       "    }\n",
       "\n",
       "    .dataframe thead th {\n",
       "        text-align: right;\n",
       "    }\n",
       "</style>\n",
       "<table border=\"1\" class=\"dataframe\">\n",
       "  <thead>\n",
       "    <tr style=\"text-align: right;\">\n",
       "      <th></th>\n",
       "      <th>Title</th>\n",
       "      <th>tag</th>\n",
       "    </tr>\n",
       "  </thead>\n",
       "  <tbody>\n",
       "    <tr>\n",
       "      <th>0</th>\n",
       "      <td>Wednesday</td>\n",
       "      <td>comedy crime fantasy follows wednesday addams ...</td>\n",
       "    </tr>\n",
       "    <tr>\n",
       "      <th>1</th>\n",
       "      <td>Yellowstone</td>\n",
       "      <td>drama western a ranching family in montana fac...</td>\n",
       "    </tr>\n",
       "    <tr>\n",
       "      <th>2</th>\n",
       "      <td>The White Lotus</td>\n",
       "      <td>comedy drama set in a tropical resort it follo...</td>\n",
       "    </tr>\n",
       "    <tr>\n",
       "      <th>3</th>\n",
       "      <td>1923</td>\n",
       "      <td>drama western the duttons face a new set of ch...</td>\n",
       "    </tr>\n",
       "    <tr>\n",
       "      <th>4</th>\n",
       "      <td>Jack Ryan</td>\n",
       "      <td>action drama thriller up-and-coming cia analys...</td>\n",
       "    </tr>\n",
       "  </tbody>\n",
       "</table>\n",
       "</div>"
      ],
      "text/plain": [
       "             Title                                                tag\n",
       "0        Wednesday  comedy crime fantasy follows wednesday addams ...\n",
       "1      Yellowstone  drama western a ranching family in montana fac...\n",
       "2  The White Lotus  comedy drama set in a tropical resort it follo...\n",
       "3             1923  drama western the duttons face a new set of ch...\n",
       "4        Jack Ryan  action drama thriller up-and-coming cia analys..."
      ]
     },
     "execution_count": 24,
     "metadata": {},
     "output_type": "execute_result"
    }
   ],
   "source": [
    "Series.head()"
   ]
  },
  {
   "cell_type": "markdown",
   "id": "a338a4c6",
   "metadata": {
    "papermill": {
     "duration": 0.017564,
     "end_time": "2024-03-20T17:34:38.112469",
     "exception": false,
     "start_time": "2024-03-20T17:34:38.094905",
     "status": "completed"
    },
    "tags": []
   },
   "source": [
    "Now, We make a function to perform the stemming: ***Stemming is the process of reducing a word to its word stem that affixes to suffixes and prefixes or to the roots of words known as a lemma. For example: words such as “Likes”, ”liked”, ”likely” and ”liking” will be reduced to “like” after stemming. ***"
   ]
  },
  {
   "cell_type": "code",
   "execution_count": 25,
   "id": "b62e905d",
   "metadata": {
    "execution": {
     "iopub.execute_input": "2024-03-20T17:34:38.214375Z",
     "iopub.status.busy": "2024-03-20T17:34:38.213628Z",
     "iopub.status.idle": "2024-03-20T17:34:40.695433Z",
     "shell.execute_reply": "2024-03-20T17:34:40.694303Z"
    },
    "papermill": {
     "duration": 2.503096,
     "end_time": "2024-03-20T17:34:40.698286",
     "exception": false,
     "start_time": "2024-03-20T17:34:38.195190",
     "status": "completed"
    },
    "tags": []
   },
   "outputs": [],
   "source": [
    "#Importing the PorterStemmer from the nltk which is a NLP library. \n",
    "from nltk.stem import PorterStemmer\n",
    "\n",
    "ps = PorterStemmer()\n",
    "\n",
    "def stem(text):\n",
    "    y = []\n",
    "    \n",
    "    for i in text.split():\n",
    "        y.append(ps.stem(i))\n",
    "        \n",
    "    string = ' '.join(y)\n",
    "    return string\n"
   ]
  },
  {
   "cell_type": "code",
   "execution_count": 26,
   "id": "5ff3c16d",
   "metadata": {
    "execution": {
     "iopub.execute_input": "2024-03-20T17:34:40.733651Z",
     "iopub.status.busy": "2024-03-20T17:34:40.733234Z",
     "iopub.status.idle": "2024-03-20T17:35:16.389500Z",
     "shell.execute_reply": "2024-03-20T17:35:16.388135Z"
    },
    "papermill": {
     "duration": 35.67725,
     "end_time": "2024-03-20T17:35:16.392458",
     "exception": false,
     "start_time": "2024-03-20T17:34:40.715208",
     "status": "completed"
    },
    "tags": []
   },
   "outputs": [],
   "source": [
    "Series['tag'] = Series['tag'].apply(stem)"
   ]
  },
  {
   "cell_type": "markdown",
   "id": "30d0a078",
   "metadata": {
    "papermill": {
     "duration": 0.017155,
     "end_time": "2024-03-20T17:35:16.426703",
     "exception": false,
     "start_time": "2024-03-20T17:35:16.409548",
     "status": "completed"
    },
    "tags": []
   },
   "source": [
    "Now, I'm going to implementing the **vectorization** using the TfidfVectorizer: **TfidfVectorizer is a term frequency-inverse document frequency (TF-IDF) vectorizer in Python, commonly used in natural language processing (NLP) and information retrieval. It is a method used to convert text documents into numerical vectors, which can then be used as input for machine learning algorithms.**"
   ]
  },
  {
   "cell_type": "code",
   "execution_count": 27,
   "id": "20f6233d",
   "metadata": {
    "execution": {
     "iopub.execute_input": "2024-03-20T17:35:16.463490Z",
     "iopub.status.busy": "2024-03-20T17:35:16.463116Z",
     "iopub.status.idle": "2024-03-20T17:35:16.467979Z",
     "shell.execute_reply": "2024-03-20T17:35:16.466595Z"
    },
    "papermill": {
     "duration": 0.025622,
     "end_time": "2024-03-20T17:35:16.470431",
     "exception": false,
     "start_time": "2024-03-20T17:35:16.444809",
     "status": "completed"
    },
    "tags": []
   },
   "outputs": [],
   "source": [
    "from sklearn.feature_extraction.text import TfidfVectorizer"
   ]
  },
  {
   "cell_type": "code",
   "execution_count": 28,
   "id": "7d1b88c1",
   "metadata": {
    "execution": {
     "iopub.execute_input": "2024-03-20T17:35:16.506015Z",
     "iopub.status.busy": "2024-03-20T17:35:16.505597Z",
     "iopub.status.idle": "2024-03-20T17:35:16.510784Z",
     "shell.execute_reply": "2024-03-20T17:35:16.509386Z"
    },
    "papermill": {
     "duration": 0.025982,
     "end_time": "2024-03-20T17:35:16.513256",
     "exception": false,
     "start_time": "2024-03-20T17:35:16.487274",
     "status": "completed"
    },
    "tags": []
   },
   "outputs": [],
   "source": [
    "tfIdfVectorizer=TfidfVectorizer(use_idf=True,  max_features=50000, stop_words='english')"
   ]
  },
  {
   "cell_type": "code",
   "execution_count": 29,
   "id": "b6ab1aa4",
   "metadata": {
    "execution": {
     "iopub.execute_input": "2024-03-20T17:35:16.549106Z",
     "iopub.status.busy": "2024-03-20T17:35:16.548685Z",
     "iopub.status.idle": "2024-03-20T17:35:21.543503Z",
     "shell.execute_reply": "2024-03-20T17:35:21.542094Z"
    },
    "papermill": {
     "duration": 5.017848,
     "end_time": "2024-03-20T17:35:21.547846",
     "exception": false,
     "start_time": "2024-03-20T17:35:16.529998",
     "status": "completed"
    },
    "tags": []
   },
   "outputs": [],
   "source": [
    "#Converting the words in tag column into vectors \n",
    "vectors = tfIdfVectorizer.fit_transform(Series['tag']).toarray()"
   ]
  },
  {
   "cell_type": "code",
   "execution_count": 30,
   "id": "d6629c0c",
   "metadata": {
    "execution": {
     "iopub.execute_input": "2024-03-20T17:35:21.588873Z",
     "iopub.status.busy": "2024-03-20T17:35:21.588470Z",
     "iopub.status.idle": "2024-03-20T17:35:21.595291Z",
     "shell.execute_reply": "2024-03-20T17:35:21.594400Z"
    },
    "papermill": {
     "duration": 0.028895,
     "end_time": "2024-03-20T17:35:21.597573",
     "exception": false,
     "start_time": "2024-03-20T17:35:21.568678",
     "status": "completed"
    },
    "tags": []
   },
   "outputs": [
    {
     "data": {
      "text/plain": [
       "array([[0., 0., 0., ..., 0., 0., 0.],\n",
       "       [0., 0., 0., ..., 0., 0., 0.],\n",
       "       [0., 0., 0., ..., 0., 0., 0.],\n",
       "       ...,\n",
       "       [0., 0., 0., ..., 0., 0., 0.],\n",
       "       [0., 0., 0., ..., 0., 0., 0.],\n",
       "       [0., 0., 0., ..., 0., 0., 0.]])"
      ]
     },
     "execution_count": 30,
     "metadata": {},
     "output_type": "execute_result"
    }
   ],
   "source": [
    "vectors"
   ]
  },
  {
   "cell_type": "code",
   "execution_count": 31,
   "id": "3b274c70",
   "metadata": {
    "execution": {
     "iopub.execute_input": "2024-03-20T17:35:21.634531Z",
     "iopub.status.busy": "2024-03-20T17:35:21.634141Z",
     "iopub.status.idle": "2024-03-20T17:35:21.641679Z",
     "shell.execute_reply": "2024-03-20T17:35:21.640176Z"
    },
    "papermill": {
     "duration": 0.028829,
     "end_time": "2024-03-20T17:35:21.644183",
     "exception": false,
     "start_time": "2024-03-20T17:35:21.615354",
     "status": "completed"
    },
    "tags": []
   },
   "outputs": [
    {
     "data": {
      "text/plain": [
       "(40000, 19255)"
      ]
     },
     "execution_count": 31,
     "metadata": {},
     "output_type": "execute_result"
    }
   ],
   "source": [
    "vectors.shape"
   ]
  },
  {
   "cell_type": "markdown",
   "id": "a1d2870d",
   "metadata": {
    "papermill": {
     "duration": 0.016882,
     "end_time": "2024-03-20T17:35:21.678232",
     "exception": false,
     "start_time": "2024-03-20T17:35:21.661350",
     "status": "completed"
    },
    "tags": []
   },
   "source": [
    "Using Sklearn library importing cosine_similarity: **cosine_similarity is a function used to compute the cosine similarity between pairs of vectors. In the context of text processing and natural language processing (NLP), it's often used to measure the similarity between documents or text snippets represented as vectors, typically using TF-IDF (Term Frequency-Inverse Document Frequency) vectors.**"
   ]
  },
  {
   "cell_type": "code",
   "execution_count": 32,
   "id": "e2d2b86c",
   "metadata": {
    "execution": {
     "iopub.execute_input": "2024-03-20T17:35:21.716019Z",
     "iopub.status.busy": "2024-03-20T17:35:21.715584Z",
     "iopub.status.idle": "2024-03-20T17:35:21.721244Z",
     "shell.execute_reply": "2024-03-20T17:35:21.719863Z"
    },
    "papermill": {
     "duration": 0.028386,
     "end_time": "2024-03-20T17:35:21.723810",
     "exception": false,
     "start_time": "2024-03-20T17:35:21.695424",
     "status": "completed"
    },
    "tags": []
   },
   "outputs": [],
   "source": [
    "from sklearn.metrics.pairwise import cosine_similarity"
   ]
  },
  {
   "cell_type": "code",
   "execution_count": 33,
   "id": "200ab988",
   "metadata": {
    "execution": {
     "iopub.execute_input": "2024-03-20T17:35:21.760579Z",
     "iopub.status.busy": "2024-03-20T17:35:21.760176Z",
     "iopub.status.idle": "2024-03-20T17:43:33.222522Z",
     "shell.execute_reply": "2024-03-20T17:43:33.221146Z"
    },
    "papermill": {
     "duration": 491.484375,
     "end_time": "2024-03-20T17:43:33.225606",
     "exception": false,
     "start_time": "2024-03-20T17:35:21.741231",
     "status": "completed"
    },
    "tags": []
   },
   "outputs": [],
   "source": [
    "similarity = cosine_similarity(vectors)"
   ]
  },
  {
   "cell_type": "code",
   "execution_count": 34,
   "id": "49f50d83",
   "metadata": {
    "execution": {
     "iopub.execute_input": "2024-03-20T17:43:33.263405Z",
     "iopub.status.busy": "2024-03-20T17:43:33.263018Z",
     "iopub.status.idle": "2024-03-20T17:43:33.269557Z",
     "shell.execute_reply": "2024-03-20T17:43:33.268311Z"
    },
    "papermill": {
     "duration": 0.028869,
     "end_time": "2024-03-20T17:43:33.272574",
     "exception": false,
     "start_time": "2024-03-20T17:43:33.243705",
     "status": "completed"
    },
    "tags": []
   },
   "outputs": [
    {
     "data": {
      "text/plain": [
       "(40000, 40000)"
      ]
     },
     "execution_count": 34,
     "metadata": {},
     "output_type": "execute_result"
    }
   ],
   "source": [
    "similarity.shape"
   ]
  },
  {
   "cell_type": "markdown",
   "id": "62ed95d8",
   "metadata": {
    "papermill": {
     "duration": 0.016871,
     "end_time": "2024-03-20T17:43:33.306573",
     "exception": false,
     "start_time": "2024-03-20T17:43:33.289702",
     "status": "completed"
    },
    "tags": []
   },
   "source": [
    "Now, I'm gona make** main function** to recommend the TV Shows,Recommending the TV show according the **distance** between the vectors in **similarity table of 40000 dimensions**. And find the **Neariest Similar TV Show**. "
   ]
  },
  {
   "cell_type": "code",
   "execution_count": 35,
   "id": "09debfc5",
   "metadata": {
    "execution": {
     "iopub.execute_input": "2024-03-20T17:43:33.342716Z",
     "iopub.status.busy": "2024-03-20T17:43:33.342164Z",
     "iopub.status.idle": "2024-03-20T17:43:33.349317Z",
     "shell.execute_reply": "2024-03-20T17:43:33.348153Z"
    },
    "papermill": {
     "duration": 0.02807,
     "end_time": "2024-03-20T17:43:33.351665",
     "exception": false,
     "start_time": "2024-03-20T17:43:33.323595",
     "status": "completed"
    },
    "tags": []
   },
   "outputs": [],
   "source": [
    "def recommendation(movie):\n",
    "    movie_index = Series[Series['Title'] == movie].index[0]\n",
    "    distances = similarity[movie_index]\n",
    "    movies_list = sorted(list(enumerate(distances)), reverse=True, key=lambda x:x[1])[1:11]\n",
    "    for i in movies_list:\n",
    "        print(Series.iloc[i[0]].Title)"
   ]
  },
  {
   "cell_type": "code",
   "execution_count": 36,
   "id": "fb76ce2f",
   "metadata": {
    "execution": {
     "iopub.execute_input": "2024-03-20T17:43:33.388944Z",
     "iopub.status.busy": "2024-03-20T17:43:33.388035Z",
     "iopub.status.idle": "2024-03-20T17:43:33.425284Z",
     "shell.execute_reply": "2024-03-20T17:43:33.424053Z"
    },
    "papermill": {
     "duration": 0.058893,
     "end_time": "2024-03-20T17:43:33.427875",
     "exception": false,
     "start_time": "2024-03-20T17:43:33.368982",
     "status": "completed"
    },
    "tags": []
   },
   "outputs": [
    {
     "name": "stdout",
     "output_type": "stream",
     "text": [
      "National Treasure: Edge of History\n",
      "Game of Thrones\n",
      "Brain Games\n",
      "Rise of Empires: Ottoman\n",
      "National Treasure: Edge of History\n",
      "Annyeong? Naya!\n",
      "Alice in Borderland\n",
      "Doctor Who\n",
      "Two Fat Ladies\n",
      "Hunters\n"
     ]
    }
   ],
   "source": [
    "recommendation(\"Jack Ryan\")"
   ]
  }
 ],
 "metadata": {
  "kaggle": {
   "accelerator": "none",
   "dataSources": [
    {
     "datasetId": 4550080,
     "sourceId": 7776306,
     "sourceType": "datasetVersion"
    }
   ],
   "dockerImageVersionId": 30664,
   "isGpuEnabled": false,
   "isInternetEnabled": false,
   "language": "python",
   "sourceType": "notebook"
  },
  "kernelspec": {
   "display_name": "Python 3",
   "language": "python",
   "name": "python3"
  },
  "language_info": {
   "codemirror_mode": {
    "name": "ipython",
    "version": 3
   },
   "file_extension": ".py",
   "mimetype": "text/x-python",
   "name": "python",
   "nbconvert_exporter": "python",
   "pygments_lexer": "ipython3",
   "version": "3.10.13"
  },
  "papermill": {
   "default_parameters": {},
   "duration": 543.434035,
   "end_time": "2024-03-20T17:43:33.968106",
   "environment_variables": {},
   "exception": null,
   "input_path": "__notebook__.ipynb",
   "output_path": "__notebook__.ipynb",
   "parameters": {},
   "start_time": "2024-03-20T17:34:30.534071",
   "version": "2.5.0"
  }
 },
 "nbformat": 4,
 "nbformat_minor": 5
}
