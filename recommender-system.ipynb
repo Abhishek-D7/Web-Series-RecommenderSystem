{
 "cells": [
  {
   "cell_type": "raw",
   "id": "b0e23b77",
   "metadata": {
    "_cell_guid": "b1076dfc-b9ad-4769-8c92-a6c4dae69d19",
    "_uuid": "8f2839f25d086af736a60e9eeb907d3b93b6e0e5",
    "execution": {
     "iopub.execute_input": "2024-03-30T16:09:13.145064Z",
     "iopub.status.busy": "2024-03-30T16:09:13.144608Z",
     "iopub.status.idle": "2024-03-30T16:09:14.208044Z",
     "shell.execute_reply": "2024-03-30T16:09:14.207228Z",
     "shell.execute_reply.started": "2024-03-30T16:09:13.145028Z"
    },
    "papermill": {
     "duration": 0.014274,
     "end_time": "2024-03-31T06:51:52.145634",
     "exception": false,
     "start_time": "2024-03-31T06:51:52.131360",
     "status": "completed"
    },
    "tags": []
   },
   "source": [
    "# This Python 3 environment comes with many helpful analytics libraries installed\n",
    "# It is defined by the kaggle/python Docker image: https://github.com/kaggle/docker-python\n",
    "# For example, here's several helpful packages to load\n",
    "\n",
    "import numpy as np # linear algebra\n",
    "import pandas as pd # data processing, CSV file I/O (e.g. pd.read_csv)\n",
    "\n",
    "# Input data files are available in the read-only \"../input/\" directory\n",
    "# For example, running this (by clicking run or pressing Shift+Enter) will list all files under the input directory\n",
    "\n",
    "import os\n",
    "for dirname, _, filenames in os.walk('/kaggle/input'):\n",
    "    for filename in filenames:\n",
    "        print(os.path.join(dirname, filename))\n",
    "\n",
    "# You can write up to 20GB to the current directory (/kaggle/working/) that gets preserved as output when you create a version using \"Save & Run All\" \n",
    "# You can also write temporary files to /kaggle/temp/, but they won't be saved outside of the current session"
   ]
  },
  {
   "cell_type": "code",
   "execution_count": 1,
   "id": "b1117bcc",
   "metadata": {
    "execution": {
     "iopub.execute_input": "2024-03-31T06:51:52.175749Z",
     "iopub.status.busy": "2024-03-31T06:51:52.175349Z",
     "iopub.status.idle": "2024-03-31T06:51:53.203255Z",
     "shell.execute_reply": "2024-03-31T06:51:53.201737Z"
    },
    "papermill": {
     "duration": 1.046639,
     "end_time": "2024-03-31T06:51:53.206890",
     "exception": false,
     "start_time": "2024-03-31T06:51:52.160251",
     "status": "completed"
    },
    "tags": []
   },
   "outputs": [],
   "source": [
    "#Importing the Libraries of Python pandas , Numpy etc..\n",
    "import pandas as pd\n",
    "import numpy as np\n",
    "import warnings\n",
    "warnings.filterwarnings('ignore')"
   ]
  },
  {
   "cell_type": "code",
   "execution_count": 2,
   "id": "76e331dc",
   "metadata": {
    "execution": {
     "iopub.execute_input": "2024-03-31T06:51:53.238769Z",
     "iopub.status.busy": "2024-03-31T06:51:53.237812Z",
     "iopub.status.idle": "2024-03-31T06:51:53.404892Z",
     "shell.execute_reply": "2024-03-31T06:51:53.403626Z"
    },
    "papermill": {
     "duration": 0.1862,
     "end_time": "2024-03-31T06:51:53.408222",
     "exception": false,
     "start_time": "2024-03-31T06:51:53.222022",
     "status": "completed"
    },
    "tags": []
   },
   "outputs": [
    {
     "data": {
      "text/html": [
       "<div>\n",
       "<style scoped>\n",
       "    .dataframe tbody tr th:only-of-type {\n",
       "        vertical-align: middle;\n",
       "    }\n",
       "\n",
       "    .dataframe tbody tr th {\n",
       "        vertical-align: top;\n",
       "    }\n",
       "\n",
       "    .dataframe thead th {\n",
       "        text-align: right;\n",
       "    }\n",
       "</style>\n",
       "<table border=\"1\" class=\"dataframe\">\n",
       "  <thead>\n",
       "    <tr style=\"text-align: right;\">\n",
       "      <th></th>\n",
       "      <th>show_id</th>\n",
       "      <th>type</th>\n",
       "      <th>title</th>\n",
       "      <th>director</th>\n",
       "      <th>cast</th>\n",
       "      <th>country</th>\n",
       "      <th>date_added</th>\n",
       "      <th>release_year</th>\n",
       "      <th>rating</th>\n",
       "      <th>duration</th>\n",
       "      <th>listed_in</th>\n",
       "      <th>description</th>\n",
       "    </tr>\n",
       "  </thead>\n",
       "  <tbody>\n",
       "    <tr>\n",
       "      <th>0</th>\n",
       "      <td>s1</td>\n",
       "      <td>Movie</td>\n",
       "      <td>Dick Johnson Is Dead</td>\n",
       "      <td>Kirsten Johnson</td>\n",
       "      <td>NaN</td>\n",
       "      <td>United States</td>\n",
       "      <td>September 25, 2021</td>\n",
       "      <td>2020</td>\n",
       "      <td>PG-13</td>\n",
       "      <td>90 min</td>\n",
       "      <td>Documentaries</td>\n",
       "      <td>As her father nears the end of his life, filmm...</td>\n",
       "    </tr>\n",
       "    <tr>\n",
       "      <th>1</th>\n",
       "      <td>s2</td>\n",
       "      <td>TV Show</td>\n",
       "      <td>Blood &amp; Water</td>\n",
       "      <td>NaN</td>\n",
       "      <td>Ama Qamata, Khosi Ngema, Gail Mabalane, Thaban...</td>\n",
       "      <td>South Africa</td>\n",
       "      <td>September 24, 2021</td>\n",
       "      <td>2021</td>\n",
       "      <td>TV-MA</td>\n",
       "      <td>2 Seasons</td>\n",
       "      <td>International TV Shows, TV Dramas, TV Mysteries</td>\n",
       "      <td>After crossing paths at a party, a Cape Town t...</td>\n",
       "    </tr>\n",
       "    <tr>\n",
       "      <th>2</th>\n",
       "      <td>s3</td>\n",
       "      <td>TV Show</td>\n",
       "      <td>Ganglands</td>\n",
       "      <td>Julien Leclercq</td>\n",
       "      <td>Sami Bouajila, Tracy Gotoas, Samuel Jouy, Nabi...</td>\n",
       "      <td>NaN</td>\n",
       "      <td>September 24, 2021</td>\n",
       "      <td>2021</td>\n",
       "      <td>TV-MA</td>\n",
       "      <td>1 Season</td>\n",
       "      <td>Crime TV Shows, International TV Shows, TV Act...</td>\n",
       "      <td>To protect his family from a powerful drug lor...</td>\n",
       "    </tr>\n",
       "    <tr>\n",
       "      <th>3</th>\n",
       "      <td>s4</td>\n",
       "      <td>TV Show</td>\n",
       "      <td>Jailbirds New Orleans</td>\n",
       "      <td>NaN</td>\n",
       "      <td>NaN</td>\n",
       "      <td>NaN</td>\n",
       "      <td>September 24, 2021</td>\n",
       "      <td>2021</td>\n",
       "      <td>TV-MA</td>\n",
       "      <td>1 Season</td>\n",
       "      <td>Docuseries, Reality TV</td>\n",
       "      <td>Feuds, flirtations and toilet talk go down amo...</td>\n",
       "    </tr>\n",
       "    <tr>\n",
       "      <th>4</th>\n",
       "      <td>s5</td>\n",
       "      <td>TV Show</td>\n",
       "      <td>Kota Factory</td>\n",
       "      <td>NaN</td>\n",
       "      <td>Mayur More, Jitendra Kumar, Ranjan Raj, Alam K...</td>\n",
       "      <td>India</td>\n",
       "      <td>September 24, 2021</td>\n",
       "      <td>2021</td>\n",
       "      <td>TV-MA</td>\n",
       "      <td>2 Seasons</td>\n",
       "      <td>International TV Shows, Romantic TV Shows, TV ...</td>\n",
       "      <td>In a city of coaching centers known to train I...</td>\n",
       "    </tr>\n",
       "  </tbody>\n",
       "</table>\n",
       "</div>"
      ],
      "text/plain": [
       "  show_id     type                  title         director  \\\n",
       "0      s1    Movie   Dick Johnson Is Dead  Kirsten Johnson   \n",
       "1      s2  TV Show          Blood & Water              NaN   \n",
       "2      s3  TV Show              Ganglands  Julien Leclercq   \n",
       "3      s4  TV Show  Jailbirds New Orleans              NaN   \n",
       "4      s5  TV Show           Kota Factory              NaN   \n",
       "\n",
       "                                                cast        country  \\\n",
       "0                                                NaN  United States   \n",
       "1  Ama Qamata, Khosi Ngema, Gail Mabalane, Thaban...   South Africa   \n",
       "2  Sami Bouajila, Tracy Gotoas, Samuel Jouy, Nabi...            NaN   \n",
       "3                                                NaN            NaN   \n",
       "4  Mayur More, Jitendra Kumar, Ranjan Raj, Alam K...          India   \n",
       "\n",
       "           date_added  release_year rating   duration  \\\n",
       "0  September 25, 2021          2020  PG-13     90 min   \n",
       "1  September 24, 2021          2021  TV-MA  2 Seasons   \n",
       "2  September 24, 2021          2021  TV-MA   1 Season   \n",
       "3  September 24, 2021          2021  TV-MA   1 Season   \n",
       "4  September 24, 2021          2021  TV-MA  2 Seasons   \n",
       "\n",
       "                                           listed_in  \\\n",
       "0                                      Documentaries   \n",
       "1    International TV Shows, TV Dramas, TV Mysteries   \n",
       "2  Crime TV Shows, International TV Shows, TV Act...   \n",
       "3                             Docuseries, Reality TV   \n",
       "4  International TV Shows, Romantic TV Shows, TV ...   \n",
       "\n",
       "                                         description  \n",
       "0  As her father nears the end of his life, filmm...  \n",
       "1  After crossing paths at a party, a Cape Town t...  \n",
       "2  To protect his family from a powerful drug lor...  \n",
       "3  Feuds, flirtations and toilet talk go down amo...  \n",
       "4  In a city of coaching centers known to train I...  "
      ]
     },
     "execution_count": 2,
     "metadata": {},
     "output_type": "execute_result"
    }
   ],
   "source": [
    "#Loading the Data in the notebook environment  \n",
    "Data = pd.read_csv(\"/kaggle/input/netflix-shows/netflix_titles.csv\")\n",
    "Data.head()"
   ]
  },
  {
   "cell_type": "code",
   "execution_count": 3,
   "id": "86e9d88f",
   "metadata": {
    "execution": {
     "iopub.execute_input": "2024-03-31T06:51:53.441046Z",
     "iopub.status.busy": "2024-03-31T06:51:53.440662Z",
     "iopub.status.idle": "2024-03-31T06:51:53.459604Z",
     "shell.execute_reply": "2024-03-31T06:51:53.458330Z"
    },
    "papermill": {
     "duration": 0.039198,
     "end_time": "2024-03-31T06:51:53.462425",
     "exception": false,
     "start_time": "2024-03-31T06:51:53.423227",
     "status": "completed"
    },
    "tags": []
   },
   "outputs": [
    {
     "data": {
      "text/html": [
       "<div>\n",
       "<style scoped>\n",
       "    .dataframe tbody tr th:only-of-type {\n",
       "        vertical-align: middle;\n",
       "    }\n",
       "\n",
       "    .dataframe tbody tr th {\n",
       "        vertical-align: top;\n",
       "    }\n",
       "\n",
       "    .dataframe thead th {\n",
       "        text-align: right;\n",
       "    }\n",
       "</style>\n",
       "<table border=\"1\" class=\"dataframe\">\n",
       "  <thead>\n",
       "    <tr style=\"text-align: right;\">\n",
       "      <th></th>\n",
       "      <th>show_id</th>\n",
       "      <th>type</th>\n",
       "      <th>title</th>\n",
       "      <th>director</th>\n",
       "      <th>cast</th>\n",
       "      <th>country</th>\n",
       "      <th>date_added</th>\n",
       "      <th>release_year</th>\n",
       "      <th>rating</th>\n",
       "      <th>duration</th>\n",
       "      <th>listed_in</th>\n",
       "      <th>description</th>\n",
       "    </tr>\n",
       "  </thead>\n",
       "  <tbody>\n",
       "    <tr>\n",
       "      <th>8802</th>\n",
       "      <td>s8803</td>\n",
       "      <td>Movie</td>\n",
       "      <td>Zodiac</td>\n",
       "      <td>David Fincher</td>\n",
       "      <td>Mark Ruffalo, Jake Gyllenhaal, Robert Downey J...</td>\n",
       "      <td>United States</td>\n",
       "      <td>November 20, 2019</td>\n",
       "      <td>2007</td>\n",
       "      <td>R</td>\n",
       "      <td>158 min</td>\n",
       "      <td>Cult Movies, Dramas, Thrillers</td>\n",
       "      <td>A political cartoonist, a crime reporter and a...</td>\n",
       "    </tr>\n",
       "    <tr>\n",
       "      <th>8803</th>\n",
       "      <td>s8804</td>\n",
       "      <td>TV Show</td>\n",
       "      <td>Zombie Dumb</td>\n",
       "      <td>NaN</td>\n",
       "      <td>NaN</td>\n",
       "      <td>NaN</td>\n",
       "      <td>July 1, 2019</td>\n",
       "      <td>2018</td>\n",
       "      <td>TV-Y7</td>\n",
       "      <td>2 Seasons</td>\n",
       "      <td>Kids' TV, Korean TV Shows, TV Comedies</td>\n",
       "      <td>While living alone in a spooky town, a young g...</td>\n",
       "    </tr>\n",
       "    <tr>\n",
       "      <th>8804</th>\n",
       "      <td>s8805</td>\n",
       "      <td>Movie</td>\n",
       "      <td>Zombieland</td>\n",
       "      <td>Ruben Fleischer</td>\n",
       "      <td>Jesse Eisenberg, Woody Harrelson, Emma Stone, ...</td>\n",
       "      <td>United States</td>\n",
       "      <td>November 1, 2019</td>\n",
       "      <td>2009</td>\n",
       "      <td>R</td>\n",
       "      <td>88 min</td>\n",
       "      <td>Comedies, Horror Movies</td>\n",
       "      <td>Looking to survive in a world taken over by zo...</td>\n",
       "    </tr>\n",
       "    <tr>\n",
       "      <th>8805</th>\n",
       "      <td>s8806</td>\n",
       "      <td>Movie</td>\n",
       "      <td>Zoom</td>\n",
       "      <td>Peter Hewitt</td>\n",
       "      <td>Tim Allen, Courteney Cox, Chevy Chase, Kate Ma...</td>\n",
       "      <td>United States</td>\n",
       "      <td>January 11, 2020</td>\n",
       "      <td>2006</td>\n",
       "      <td>PG</td>\n",
       "      <td>88 min</td>\n",
       "      <td>Children &amp; Family Movies, Comedies</td>\n",
       "      <td>Dragged from civilian life, a former superhero...</td>\n",
       "    </tr>\n",
       "    <tr>\n",
       "      <th>8806</th>\n",
       "      <td>s8807</td>\n",
       "      <td>Movie</td>\n",
       "      <td>Zubaan</td>\n",
       "      <td>Mozez Singh</td>\n",
       "      <td>Vicky Kaushal, Sarah-Jane Dias, Raaghav Chanan...</td>\n",
       "      <td>India</td>\n",
       "      <td>March 2, 2019</td>\n",
       "      <td>2015</td>\n",
       "      <td>TV-14</td>\n",
       "      <td>111 min</td>\n",
       "      <td>Dramas, International Movies, Music &amp; Musicals</td>\n",
       "      <td>A scrappy but poor boy worms his way into a ty...</td>\n",
       "    </tr>\n",
       "  </tbody>\n",
       "</table>\n",
       "</div>"
      ],
      "text/plain": [
       "     show_id     type        title         director  \\\n",
       "8802   s8803    Movie       Zodiac    David Fincher   \n",
       "8803   s8804  TV Show  Zombie Dumb              NaN   \n",
       "8804   s8805    Movie   Zombieland  Ruben Fleischer   \n",
       "8805   s8806    Movie         Zoom     Peter Hewitt   \n",
       "8806   s8807    Movie       Zubaan      Mozez Singh   \n",
       "\n",
       "                                                   cast        country  \\\n",
       "8802  Mark Ruffalo, Jake Gyllenhaal, Robert Downey J...  United States   \n",
       "8803                                                NaN            NaN   \n",
       "8804  Jesse Eisenberg, Woody Harrelson, Emma Stone, ...  United States   \n",
       "8805  Tim Allen, Courteney Cox, Chevy Chase, Kate Ma...  United States   \n",
       "8806  Vicky Kaushal, Sarah-Jane Dias, Raaghav Chanan...          India   \n",
       "\n",
       "             date_added  release_year rating   duration  \\\n",
       "8802  November 20, 2019          2007      R    158 min   \n",
       "8803       July 1, 2019          2018  TV-Y7  2 Seasons   \n",
       "8804   November 1, 2019          2009      R     88 min   \n",
       "8805   January 11, 2020          2006     PG     88 min   \n",
       "8806      March 2, 2019          2015  TV-14    111 min   \n",
       "\n",
       "                                           listed_in  \\\n",
       "8802                  Cult Movies, Dramas, Thrillers   \n",
       "8803          Kids' TV, Korean TV Shows, TV Comedies   \n",
       "8804                         Comedies, Horror Movies   \n",
       "8805              Children & Family Movies, Comedies   \n",
       "8806  Dramas, International Movies, Music & Musicals   \n",
       "\n",
       "                                            description  \n",
       "8802  A political cartoonist, a crime reporter and a...  \n",
       "8803  While living alone in a spooky town, a young g...  \n",
       "8804  Looking to survive in a world taken over by zo...  \n",
       "8805  Dragged from civilian life, a former superhero...  \n",
       "8806  A scrappy but poor boy worms his way into a ty...  "
      ]
     },
     "execution_count": 3,
     "metadata": {},
     "output_type": "execute_result"
    }
   ],
   "source": [
    "Data.tail()"
   ]
  },
  {
   "cell_type": "code",
   "execution_count": 4,
   "id": "64107099",
   "metadata": {
    "execution": {
     "iopub.execute_input": "2024-03-31T06:51:53.493679Z",
     "iopub.status.busy": "2024-03-31T06:51:53.493282Z",
     "iopub.status.idle": "2024-03-31T06:51:53.516224Z",
     "shell.execute_reply": "2024-03-31T06:51:53.514935Z"
    },
    "papermill": {
     "duration": 0.041672,
     "end_time": "2024-03-31T06:51:53.518847",
     "exception": false,
     "start_time": "2024-03-31T06:51:53.477175",
     "status": "completed"
    },
    "tags": []
   },
   "outputs": [
    {
     "data": {
      "text/plain": [
       "show_id            0\n",
       "type               0\n",
       "title              0\n",
       "director        2634\n",
       "cast             825\n",
       "country          831\n",
       "date_added        10\n",
       "release_year       0\n",
       "rating             4\n",
       "duration           3\n",
       "listed_in          0\n",
       "description        0\n",
       "dtype: int64"
      ]
     },
     "execution_count": 4,
     "metadata": {},
     "output_type": "execute_result"
    }
   ],
   "source": [
    "Data.isnull().sum()"
   ]
  },
  {
   "cell_type": "code",
   "execution_count": 5,
   "id": "e0e86114",
   "metadata": {
    "execution": {
     "iopub.execute_input": "2024-03-31T06:51:53.550531Z",
     "iopub.status.busy": "2024-03-31T06:51:53.550095Z",
     "iopub.status.idle": "2024-03-31T06:51:53.588961Z",
     "shell.execute_reply": "2024-03-31T06:51:53.587668Z"
    },
    "papermill": {
     "duration": 0.057831,
     "end_time": "2024-03-31T06:51:53.591633",
     "exception": false,
     "start_time": "2024-03-31T06:51:53.533802",
     "status": "completed"
    },
    "tags": []
   },
   "outputs": [
    {
     "name": "stdout",
     "output_type": "stream",
     "text": [
      "<class 'pandas.core.frame.DataFrame'>\n",
      "RangeIndex: 8807 entries, 0 to 8806\n",
      "Data columns (total 12 columns):\n",
      " #   Column        Non-Null Count  Dtype \n",
      "---  ------        --------------  ----- \n",
      " 0   show_id       8807 non-null   object\n",
      " 1   type          8807 non-null   object\n",
      " 2   title         8807 non-null   object\n",
      " 3   director      6173 non-null   object\n",
      " 4   cast          7982 non-null   object\n",
      " 5   country       7976 non-null   object\n",
      " 6   date_added    8797 non-null   object\n",
      " 7   release_year  8807 non-null   int64 \n",
      " 8   rating        8803 non-null   object\n",
      " 9   duration      8804 non-null   object\n",
      " 10  listed_in     8807 non-null   object\n",
      " 11  description   8807 non-null   object\n",
      "dtypes: int64(1), object(11)\n",
      "memory usage: 825.8+ KB\n"
     ]
    }
   ],
   "source": [
    "Data.info()"
   ]
  },
  {
   "cell_type": "markdown",
   "id": "084863b6",
   "metadata": {
    "papermill": {
     "duration": 0.014996,
     "end_time": "2024-03-31T06:51:53.621734",
     "exception": false,
     "start_time": "2024-03-31T06:51:53.606738",
     "status": "completed"
    },
    "tags": []
   },
   "source": [
    "Now we are slpiting the words in columns (**Synopsis,Cast, Genre**) ,and creating a list of words. this process help us in **Content-Based recommender system**. This words fruther used as **tags**."
   ]
  },
  {
   "cell_type": "code",
   "execution_count": 6,
   "id": "c762ad33",
   "metadata": {
    "execution": {
     "iopub.execute_input": "2024-03-31T06:51:53.655197Z",
     "iopub.status.busy": "2024-03-31T06:51:53.654035Z",
     "iopub.status.idle": "2024-03-31T06:51:53.682548Z",
     "shell.execute_reply": "2024-03-31T06:51:53.681195Z"
    },
    "papermill": {
     "duration": 0.048249,
     "end_time": "2024-03-31T06:51:53.685563",
     "exception": false,
     "start_time": "2024-03-31T06:51:53.637314",
     "status": "completed"
    },
    "tags": []
   },
   "outputs": [
    {
     "data": {
      "text/html": [
       "<div>\n",
       "<style scoped>\n",
       "    .dataframe tbody tr th:only-of-type {\n",
       "        vertical-align: middle;\n",
       "    }\n",
       "\n",
       "    .dataframe tbody tr th {\n",
       "        vertical-align: top;\n",
       "    }\n",
       "\n",
       "    .dataframe thead th {\n",
       "        text-align: right;\n",
       "    }\n",
       "</style>\n",
       "<table border=\"1\" class=\"dataframe\">\n",
       "  <thead>\n",
       "    <tr style=\"text-align: right;\">\n",
       "      <th></th>\n",
       "      <th>show_id</th>\n",
       "      <th>type</th>\n",
       "      <th>title</th>\n",
       "      <th>director</th>\n",
       "      <th>cast</th>\n",
       "      <th>country</th>\n",
       "      <th>date_added</th>\n",
       "      <th>release_year</th>\n",
       "      <th>rating</th>\n",
       "      <th>duration</th>\n",
       "      <th>listed_in</th>\n",
       "      <th>description</th>\n",
       "    </tr>\n",
       "  </thead>\n",
       "  <tbody>\n",
       "    <tr>\n",
       "      <th>0</th>\n",
       "      <td>s1</td>\n",
       "      <td>Movie</td>\n",
       "      <td>Dick Johnson Is Dead</td>\n",
       "      <td>[Kirsten, Johnson]</td>\n",
       "      <td>NaN</td>\n",
       "      <td>United States</td>\n",
       "      <td>September 25, 2021</td>\n",
       "      <td>2020</td>\n",
       "      <td>PG-13</td>\n",
       "      <td>90 min</td>\n",
       "      <td>Documentaries</td>\n",
       "      <td>As her father nears the end of his life, filmm...</td>\n",
       "    </tr>\n",
       "    <tr>\n",
       "      <th>1</th>\n",
       "      <td>s2</td>\n",
       "      <td>TV Show</td>\n",
       "      <td>Blood &amp; Water</td>\n",
       "      <td>NaN</td>\n",
       "      <td>Ama Qamata, Khosi Ngema, Gail Mabalane, Thaban...</td>\n",
       "      <td>South Africa</td>\n",
       "      <td>September 24, 2021</td>\n",
       "      <td>2021</td>\n",
       "      <td>TV-MA</td>\n",
       "      <td>2 Seasons</td>\n",
       "      <td>International TV Shows, TV Dramas, TV Mysteries</td>\n",
       "      <td>After crossing paths at a party, a Cape Town t...</td>\n",
       "    </tr>\n",
       "    <tr>\n",
       "      <th>2</th>\n",
       "      <td>s3</td>\n",
       "      <td>TV Show</td>\n",
       "      <td>Ganglands</td>\n",
       "      <td>[Julien, Leclercq]</td>\n",
       "      <td>Sami Bouajila, Tracy Gotoas, Samuel Jouy, Nabi...</td>\n",
       "      <td>NaN</td>\n",
       "      <td>September 24, 2021</td>\n",
       "      <td>2021</td>\n",
       "      <td>TV-MA</td>\n",
       "      <td>1 Season</td>\n",
       "      <td>Crime TV Shows, International TV Shows, TV Act...</td>\n",
       "      <td>To protect his family from a powerful drug lor...</td>\n",
       "    </tr>\n",
       "    <tr>\n",
       "      <th>3</th>\n",
       "      <td>s4</td>\n",
       "      <td>TV Show</td>\n",
       "      <td>Jailbirds New Orleans</td>\n",
       "      <td>NaN</td>\n",
       "      <td>NaN</td>\n",
       "      <td>NaN</td>\n",
       "      <td>September 24, 2021</td>\n",
       "      <td>2021</td>\n",
       "      <td>TV-MA</td>\n",
       "      <td>1 Season</td>\n",
       "      <td>Docuseries, Reality TV</td>\n",
       "      <td>Feuds, flirtations and toilet talk go down amo...</td>\n",
       "    </tr>\n",
       "    <tr>\n",
       "      <th>4</th>\n",
       "      <td>s5</td>\n",
       "      <td>TV Show</td>\n",
       "      <td>Kota Factory</td>\n",
       "      <td>NaN</td>\n",
       "      <td>Mayur More, Jitendra Kumar, Ranjan Raj, Alam K...</td>\n",
       "      <td>India</td>\n",
       "      <td>September 24, 2021</td>\n",
       "      <td>2021</td>\n",
       "      <td>TV-MA</td>\n",
       "      <td>2 Seasons</td>\n",
       "      <td>International TV Shows, Romantic TV Shows, TV ...</td>\n",
       "      <td>In a city of coaching centers known to train I...</td>\n",
       "    </tr>\n",
       "  </tbody>\n",
       "</table>\n",
       "</div>"
      ],
      "text/plain": [
       "  show_id     type                  title            director  \\\n",
       "0      s1    Movie   Dick Johnson Is Dead  [Kirsten, Johnson]   \n",
       "1      s2  TV Show          Blood & Water                 NaN   \n",
       "2      s3  TV Show              Ganglands  [Julien, Leclercq]   \n",
       "3      s4  TV Show  Jailbirds New Orleans                 NaN   \n",
       "4      s5  TV Show           Kota Factory                 NaN   \n",
       "\n",
       "                                                cast        country  \\\n",
       "0                                                NaN  United States   \n",
       "1  Ama Qamata, Khosi Ngema, Gail Mabalane, Thaban...   South Africa   \n",
       "2  Sami Bouajila, Tracy Gotoas, Samuel Jouy, Nabi...            NaN   \n",
       "3                                                NaN            NaN   \n",
       "4  Mayur More, Jitendra Kumar, Ranjan Raj, Alam K...          India   \n",
       "\n",
       "           date_added  release_year rating   duration  \\\n",
       "0  September 25, 2021          2020  PG-13     90 min   \n",
       "1  September 24, 2021          2021  TV-MA  2 Seasons   \n",
       "2  September 24, 2021          2021  TV-MA   1 Season   \n",
       "3  September 24, 2021          2021  TV-MA   1 Season   \n",
       "4  September 24, 2021          2021  TV-MA  2 Seasons   \n",
       "\n",
       "                                           listed_in  \\\n",
       "0                                      Documentaries   \n",
       "1    International TV Shows, TV Dramas, TV Mysteries   \n",
       "2  Crime TV Shows, International TV Shows, TV Act...   \n",
       "3                             Docuseries, Reality TV   \n",
       "4  International TV Shows, Romantic TV Shows, TV ...   \n",
       "\n",
       "                                         description  \n",
       "0  As her father nears the end of his life, filmm...  \n",
       "1  After crossing paths at a party, a Cape Town t...  \n",
       "2  To protect his family from a powerful drug lor...  \n",
       "3  Feuds, flirtations and toilet talk go down amo...  \n",
       "4  In a city of coaching centers known to train I...  "
      ]
     },
     "execution_count": 6,
     "metadata": {},
     "output_type": "execute_result"
    }
   ],
   "source": [
    "Data['director'] = Data['director'].apply(lambda x: x.split() if isinstance(x, str) else x)\n",
    "Data.head()"
   ]
  },
  {
   "cell_type": "code",
   "execution_count": 7,
   "id": "1e713c0e",
   "metadata": {
    "execution": {
     "iopub.execute_input": "2024-03-31T06:51:53.718928Z",
     "iopub.status.busy": "2024-03-31T06:51:53.718012Z",
     "iopub.status.idle": "2024-03-31T06:51:53.753839Z",
     "shell.execute_reply": "2024-03-31T06:51:53.752746Z"
    },
    "papermill": {
     "duration": 0.05542,
     "end_time": "2024-03-31T06:51:53.756593",
     "exception": false,
     "start_time": "2024-03-31T06:51:53.701173",
     "status": "completed"
    },
    "tags": []
   },
   "outputs": [],
   "source": [
    "Data['cast'].fillna('', inplace = True)\n",
    "Data['cast'] = Data['cast'].apply(lambda x:x.split() if x else x)"
   ]
  },
  {
   "cell_type": "code",
   "execution_count": 8,
   "id": "6f1b70d3",
   "metadata": {
    "execution": {
     "iopub.execute_input": "2024-03-31T06:51:53.790922Z",
     "iopub.status.busy": "2024-03-31T06:51:53.790062Z",
     "iopub.status.idle": "2024-03-31T06:51:53.808296Z",
     "shell.execute_reply": "2024-03-31T06:51:53.806596Z"
    },
    "papermill": {
     "duration": 0.038642,
     "end_time": "2024-03-31T06:51:53.811168",
     "exception": false,
     "start_time": "2024-03-31T06:51:53.772526",
     "status": "completed"
    },
    "tags": []
   },
   "outputs": [],
   "source": [
    "Data['listed_in'] = Data['listed_in'].apply(lambda x:x.split())"
   ]
  },
  {
   "cell_type": "code",
   "execution_count": 9,
   "id": "9eefd609",
   "metadata": {
    "execution": {
     "iopub.execute_input": "2024-03-31T06:51:53.844153Z",
     "iopub.status.busy": "2024-03-31T06:51:53.843708Z",
     "iopub.status.idle": "2024-03-31T06:51:53.887392Z",
     "shell.execute_reply": "2024-03-31T06:51:53.886045Z"
    },
    "papermill": {
     "duration": 0.063403,
     "end_time": "2024-03-31T06:51:53.890263",
     "exception": false,
     "start_time": "2024-03-31T06:51:53.826860",
     "status": "completed"
    },
    "tags": []
   },
   "outputs": [],
   "source": [
    "Data['description'] = Data['description'].apply(lambda x:x.split())"
   ]
  },
  {
   "cell_type": "code",
   "execution_count": 10,
   "id": "0d1d90f9",
   "metadata": {
    "execution": {
     "iopub.execute_input": "2024-03-31T06:51:53.922957Z",
     "iopub.status.busy": "2024-03-31T06:51:53.922566Z",
     "iopub.status.idle": "2024-03-31T06:51:53.948590Z",
     "shell.execute_reply": "2024-03-31T06:51:53.947687Z"
    },
    "papermill": {
     "duration": 0.045038,
     "end_time": "2024-03-31T06:51:53.950840",
     "exception": false,
     "start_time": "2024-03-31T06:51:53.905802",
     "status": "completed"
    },
    "tags": []
   },
   "outputs": [
    {
     "data": {
      "text/html": [
       "<div>\n",
       "<style scoped>\n",
       "    .dataframe tbody tr th:only-of-type {\n",
       "        vertical-align: middle;\n",
       "    }\n",
       "\n",
       "    .dataframe tbody tr th {\n",
       "        vertical-align: top;\n",
       "    }\n",
       "\n",
       "    .dataframe thead th {\n",
       "        text-align: right;\n",
       "    }\n",
       "</style>\n",
       "<table border=\"1\" class=\"dataframe\">\n",
       "  <thead>\n",
       "    <tr style=\"text-align: right;\">\n",
       "      <th></th>\n",
       "      <th>show_id</th>\n",
       "      <th>type</th>\n",
       "      <th>title</th>\n",
       "      <th>director</th>\n",
       "      <th>cast</th>\n",
       "      <th>country</th>\n",
       "      <th>date_added</th>\n",
       "      <th>release_year</th>\n",
       "      <th>rating</th>\n",
       "      <th>duration</th>\n",
       "      <th>listed_in</th>\n",
       "      <th>description</th>\n",
       "    </tr>\n",
       "  </thead>\n",
       "  <tbody>\n",
       "    <tr>\n",
       "      <th>0</th>\n",
       "      <td>s1</td>\n",
       "      <td>Movie</td>\n",
       "      <td>Dick Johnson Is Dead</td>\n",
       "      <td>[Kirsten, Johnson]</td>\n",
       "      <td></td>\n",
       "      <td>United States</td>\n",
       "      <td>September 25, 2021</td>\n",
       "      <td>2020</td>\n",
       "      <td>PG-13</td>\n",
       "      <td>90 min</td>\n",
       "      <td>[Documentaries]</td>\n",
       "      <td>[As, her, father, nears, the, end, of, his, li...</td>\n",
       "    </tr>\n",
       "    <tr>\n",
       "      <th>1</th>\n",
       "      <td>s2</td>\n",
       "      <td>TV Show</td>\n",
       "      <td>Blood &amp; Water</td>\n",
       "      <td>NaN</td>\n",
       "      <td>[Ama, Qamata,, Khosi, Ngema,, Gail, Mabalane,,...</td>\n",
       "      <td>South Africa</td>\n",
       "      <td>September 24, 2021</td>\n",
       "      <td>2021</td>\n",
       "      <td>TV-MA</td>\n",
       "      <td>2 Seasons</td>\n",
       "      <td>[International, TV, Shows,, TV, Dramas,, TV, M...</td>\n",
       "      <td>[After, crossing, paths, at, a, party,, a, Cap...</td>\n",
       "    </tr>\n",
       "    <tr>\n",
       "      <th>2</th>\n",
       "      <td>s3</td>\n",
       "      <td>TV Show</td>\n",
       "      <td>Ganglands</td>\n",
       "      <td>[Julien, Leclercq]</td>\n",
       "      <td>[Sami, Bouajila,, Tracy, Gotoas,, Samuel, Jouy...</td>\n",
       "      <td>NaN</td>\n",
       "      <td>September 24, 2021</td>\n",
       "      <td>2021</td>\n",
       "      <td>TV-MA</td>\n",
       "      <td>1 Season</td>\n",
       "      <td>[Crime, TV, Shows,, International, TV, Shows,,...</td>\n",
       "      <td>[To, protect, his, family, from, a, powerful, ...</td>\n",
       "    </tr>\n",
       "    <tr>\n",
       "      <th>3</th>\n",
       "      <td>s4</td>\n",
       "      <td>TV Show</td>\n",
       "      <td>Jailbirds New Orleans</td>\n",
       "      <td>NaN</td>\n",
       "      <td></td>\n",
       "      <td>NaN</td>\n",
       "      <td>September 24, 2021</td>\n",
       "      <td>2021</td>\n",
       "      <td>TV-MA</td>\n",
       "      <td>1 Season</td>\n",
       "      <td>[Docuseries,, Reality, TV]</td>\n",
       "      <td>[Feuds,, flirtations, and, toilet, talk, go, d...</td>\n",
       "    </tr>\n",
       "    <tr>\n",
       "      <th>4</th>\n",
       "      <td>s5</td>\n",
       "      <td>TV Show</td>\n",
       "      <td>Kota Factory</td>\n",
       "      <td>NaN</td>\n",
       "      <td>[Mayur, More,, Jitendra, Kumar,, Ranjan, Raj,,...</td>\n",
       "      <td>India</td>\n",
       "      <td>September 24, 2021</td>\n",
       "      <td>2021</td>\n",
       "      <td>TV-MA</td>\n",
       "      <td>2 Seasons</td>\n",
       "      <td>[International, TV, Shows,, Romantic, TV, Show...</td>\n",
       "      <td>[In, a, city, of, coaching, centers, known, to...</td>\n",
       "    </tr>\n",
       "  </tbody>\n",
       "</table>\n",
       "</div>"
      ],
      "text/plain": [
       "  show_id     type                  title            director  \\\n",
       "0      s1    Movie   Dick Johnson Is Dead  [Kirsten, Johnson]   \n",
       "1      s2  TV Show          Blood & Water                 NaN   \n",
       "2      s3  TV Show              Ganglands  [Julien, Leclercq]   \n",
       "3      s4  TV Show  Jailbirds New Orleans                 NaN   \n",
       "4      s5  TV Show           Kota Factory                 NaN   \n",
       "\n",
       "                                                cast        country  \\\n",
       "0                                                     United States   \n",
       "1  [Ama, Qamata,, Khosi, Ngema,, Gail, Mabalane,,...   South Africa   \n",
       "2  [Sami, Bouajila,, Tracy, Gotoas,, Samuel, Jouy...            NaN   \n",
       "3                                                               NaN   \n",
       "4  [Mayur, More,, Jitendra, Kumar,, Ranjan, Raj,,...          India   \n",
       "\n",
       "           date_added  release_year rating   duration  \\\n",
       "0  September 25, 2021          2020  PG-13     90 min   \n",
       "1  September 24, 2021          2021  TV-MA  2 Seasons   \n",
       "2  September 24, 2021          2021  TV-MA   1 Season   \n",
       "3  September 24, 2021          2021  TV-MA   1 Season   \n",
       "4  September 24, 2021          2021  TV-MA  2 Seasons   \n",
       "\n",
       "                                           listed_in  \\\n",
       "0                                    [Documentaries]   \n",
       "1  [International, TV, Shows,, TV, Dramas,, TV, M...   \n",
       "2  [Crime, TV, Shows,, International, TV, Shows,,...   \n",
       "3                         [Docuseries,, Reality, TV]   \n",
       "4  [International, TV, Shows,, Romantic, TV, Show...   \n",
       "\n",
       "                                         description  \n",
       "0  [As, her, father, nears, the, end, of, his, li...  \n",
       "1  [After, crossing, paths, at, a, party,, a, Cap...  \n",
       "2  [To, protect, his, family, from, a, powerful, ...  \n",
       "3  [Feuds,, flirtations, and, toilet, talk, go, d...  \n",
       "4  [In, a, city, of, coaching, centers, known, to...  "
      ]
     },
     "execution_count": 10,
     "metadata": {},
     "output_type": "execute_result"
    }
   ],
   "source": [
    "Data.head()"
   ]
  },
  {
   "cell_type": "code",
   "execution_count": 11,
   "id": "ad99caed",
   "metadata": {
    "execution": {
     "iopub.execute_input": "2024-03-31T06:51:53.984855Z",
     "iopub.status.busy": "2024-03-31T06:51:53.983975Z",
     "iopub.status.idle": "2024-03-31T06:51:54.095696Z",
     "shell.execute_reply": "2024-03-31T06:51:54.094362Z"
    },
    "papermill": {
     "duration": 0.131617,
     "end_time": "2024-03-31T06:51:54.098165",
     "exception": false,
     "start_time": "2024-03-31T06:51:53.966548",
     "status": "completed"
    },
    "tags": []
   },
   "outputs": [
    {
     "data": {
      "text/plain": [
       "0       ['Documentaries'] ['As', 'her', 'father', 'nea...\n",
       "1       ['International', 'TV', 'Shows,', 'TV', 'Drama...\n",
       "2       ['Crime', 'TV', 'Shows,', 'International', 'TV...\n",
       "3       ['Docuseries,', 'Reality', 'TV'] ['Feuds,', 'f...\n",
       "4       ['International', 'TV', 'Shows,', 'Romantic', ...\n",
       "                              ...                        \n",
       "8802    ['Cult', 'Movies,', 'Dramas,', 'Thrillers'] ['...\n",
       "8803    [\"Kids'\", 'TV,', 'Korean', 'TV', 'Shows,', 'TV...\n",
       "8804    ['Comedies,', 'Horror', 'Movies'] ['Looking', ...\n",
       "8805    ['Children', '&', 'Family', 'Movies,', 'Comedi...\n",
       "8806    ['Dramas,', 'International', 'Movies,', 'Music...\n",
       "Name: tag, Length: 8807, dtype: object"
      ]
     },
     "execution_count": 11,
     "metadata": {},
     "output_type": "execute_result"
    }
   ],
   "source": [
    "#All three columns (Synopsis,Cast, Genre) combining in one column named as tag.\n",
    "Data['tag'] = [' '.join(map(str, [l, s ,c, d])) for l, s, c ,d in zip(Data['listed_in'], Data['description'], Data['cast'], Data['director'])]\n",
    "Data['tag']"
   ]
  },
  {
   "cell_type": "code",
   "execution_count": 12,
   "id": "26d35962",
   "metadata": {
    "execution": {
     "iopub.execute_input": "2024-03-31T06:51:54.132924Z",
     "iopub.status.busy": "2024-03-31T06:51:54.132506Z",
     "iopub.status.idle": "2024-03-31T06:51:54.149981Z",
     "shell.execute_reply": "2024-03-31T06:51:54.148881Z"
    },
    "papermill": {
     "duration": 0.03854,
     "end_time": "2024-03-31T06:51:54.152928",
     "exception": false,
     "start_time": "2024-03-31T06:51:54.114388",
     "status": "completed"
    },
    "tags": []
   },
   "outputs": [
    {
     "data": {
      "text/html": [
       "<div>\n",
       "<style scoped>\n",
       "    .dataframe tbody tr th:only-of-type {\n",
       "        vertical-align: middle;\n",
       "    }\n",
       "\n",
       "    .dataframe tbody tr th {\n",
       "        vertical-align: top;\n",
       "    }\n",
       "\n",
       "    .dataframe thead th {\n",
       "        text-align: right;\n",
       "    }\n",
       "</style>\n",
       "<table border=\"1\" class=\"dataframe\">\n",
       "  <thead>\n",
       "    <tr style=\"text-align: right;\">\n",
       "      <th></th>\n",
       "      <th>title</th>\n",
       "      <th>tag</th>\n",
       "    </tr>\n",
       "  </thead>\n",
       "  <tbody>\n",
       "    <tr>\n",
       "      <th>0</th>\n",
       "      <td>Dick Johnson Is Dead</td>\n",
       "      <td>['Documentaries'] ['As', 'her', 'father', 'nea...</td>\n",
       "    </tr>\n",
       "    <tr>\n",
       "      <th>1</th>\n",
       "      <td>Blood &amp; Water</td>\n",
       "      <td>['International', 'TV', 'Shows,', 'TV', 'Drama...</td>\n",
       "    </tr>\n",
       "    <tr>\n",
       "      <th>2</th>\n",
       "      <td>Ganglands</td>\n",
       "      <td>['Crime', 'TV', 'Shows,', 'International', 'TV...</td>\n",
       "    </tr>\n",
       "    <tr>\n",
       "      <th>3</th>\n",
       "      <td>Jailbirds New Orleans</td>\n",
       "      <td>['Docuseries,', 'Reality', 'TV'] ['Feuds,', 'f...</td>\n",
       "    </tr>\n",
       "    <tr>\n",
       "      <th>4</th>\n",
       "      <td>Kota Factory</td>\n",
       "      <td>['International', 'TV', 'Shows,', 'Romantic', ...</td>\n",
       "    </tr>\n",
       "  </tbody>\n",
       "</table>\n",
       "</div>"
      ],
      "text/plain": [
       "                   title                                                tag\n",
       "0   Dick Johnson Is Dead  ['Documentaries'] ['As', 'her', 'father', 'nea...\n",
       "1          Blood & Water  ['International', 'TV', 'Shows,', 'TV', 'Drama...\n",
       "2              Ganglands  ['Crime', 'TV', 'Shows,', 'International', 'TV...\n",
       "3  Jailbirds New Orleans  ['Docuseries,', 'Reality', 'TV'] ['Feuds,', 'f...\n",
       "4           Kota Factory  ['International', 'TV', 'Shows,', 'Romantic', ..."
      ]
     },
     "execution_count": 12,
     "metadata": {},
     "output_type": "execute_result"
    }
   ],
   "source": [
    "#Creating a new Data Frame name Series to store the Series Title and Tags .\n",
    "Series = Data[['title','tag']]\n",
    "Series.head()"
   ]
  },
  {
   "cell_type": "markdown",
   "id": "a984b2e8",
   "metadata": {
    "papermill": {
     "duration": 0.015846,
     "end_time": "2024-03-31T06:51:54.185083",
     "exception": false,
     "start_time": "2024-03-31T06:51:54.169237",
     "status": "completed"
    },
    "tags": []
   },
   "source": [
    "Now in next some step we refine the tag column, **removing** the different **punctuation** betwwen the words."
   ]
  },
  {
   "cell_type": "code",
   "execution_count": 13,
   "id": "04ee5643",
   "metadata": {
    "execution": {
     "iopub.execute_input": "2024-03-31T06:51:54.219500Z",
     "iopub.status.busy": "2024-03-31T06:51:54.219115Z",
     "iopub.status.idle": "2024-03-31T06:51:54.378647Z",
     "shell.execute_reply": "2024-03-31T06:51:54.377152Z"
    },
    "papermill": {
     "duration": 0.18027,
     "end_time": "2024-03-31T06:51:54.381705",
     "exception": false,
     "start_time": "2024-03-31T06:51:54.201435",
     "status": "completed"
    },
    "tags": []
   },
   "outputs": [],
   "source": [
    "Series['tag'] = Data['tag'].apply(lambda x:\"\".join(x))"
   ]
  },
  {
   "cell_type": "code",
   "execution_count": 14,
   "id": "6e79ad4c",
   "metadata": {
    "execution": {
     "iopub.execute_input": "2024-03-31T06:51:54.416305Z",
     "iopub.status.busy": "2024-03-31T06:51:54.415531Z",
     "iopub.status.idle": "2024-03-31T06:51:54.423638Z",
     "shell.execute_reply": "2024-03-31T06:51:54.422428Z"
    },
    "papermill": {
     "duration": 0.028285,
     "end_time": "2024-03-31T06:51:54.426262",
     "exception": false,
     "start_time": "2024-03-31T06:51:54.397977",
     "status": "completed"
    },
    "tags": []
   },
   "outputs": [
    {
     "data": {
      "text/plain": [
       "\"['Documentaries'] ['As', 'her', 'father', 'nears', 'the', 'end', 'of', 'his', 'life,', 'filmmaker', 'Kirsten', 'Johnson', 'stages', 'his', 'death', 'in', 'inventive', 'and', 'comical', 'ways', 'to', 'help', 'them', 'both', 'face', 'the', 'inevitable.']  ['Kirsten', 'Johnson']\""
      ]
     },
     "execution_count": 14,
     "metadata": {},
     "output_type": "execute_result"
    }
   ],
   "source": [
    "Series['tag'][0]"
   ]
  },
  {
   "cell_type": "code",
   "execution_count": 15,
   "id": "5630507d",
   "metadata": {
    "execution": {
     "iopub.execute_input": "2024-03-31T06:51:54.462083Z",
     "iopub.status.busy": "2024-03-31T06:51:54.461666Z",
     "iopub.status.idle": "2024-03-31T06:51:54.716163Z",
     "shell.execute_reply": "2024-03-31T06:51:54.715028Z"
    },
    "papermill": {
     "duration": 0.275646,
     "end_time": "2024-03-31T06:51:54.719045",
     "exception": false,
     "start_time": "2024-03-31T06:51:54.443399",
     "status": "completed"
    },
    "tags": []
   },
   "outputs": [],
   "source": [
    "#Using replace dunction ,removing the punctuation and adding space at there place.\n",
    "for column in Data.columns:\n",
    "    Series['tag'] = Series['tag'].apply(lambda x: str(x).replace('[', '').replace(']', '').replace('\\'', '').replace(',', ''))"
   ]
  },
  {
   "cell_type": "code",
   "execution_count": 16,
   "id": "0fd45c6f",
   "metadata": {
    "execution": {
     "iopub.execute_input": "2024-03-31T06:51:54.754541Z",
     "iopub.status.busy": "2024-03-31T06:51:54.754108Z",
     "iopub.status.idle": "2024-03-31T06:51:54.760410Z",
     "shell.execute_reply": "2024-03-31T06:51:54.759172Z"
    },
    "papermill": {
     "duration": 0.026823,
     "end_time": "2024-03-31T06:51:54.763082",
     "exception": false,
     "start_time": "2024-03-31T06:51:54.736259",
     "status": "completed"
    },
    "tags": []
   },
   "outputs": [],
   "source": [
    "#In above shell we can see addams is between  the double inverted commas, removing these inverted commas\n",
    "Series['tag'][0] = Series['tag'][0].replace('\"Addams\"', 'Addams')"
   ]
  },
  {
   "cell_type": "code",
   "execution_count": 17,
   "id": "38651349",
   "metadata": {
    "execution": {
     "iopub.execute_input": "2024-03-31T06:51:54.797683Z",
     "iopub.status.busy": "2024-03-31T06:51:54.797268Z",
     "iopub.status.idle": "2024-03-31T06:51:54.804574Z",
     "shell.execute_reply": "2024-03-31T06:51:54.803327Z"
    },
    "papermill": {
     "duration": 0.027752,
     "end_time": "2024-03-31T06:51:54.807201",
     "exception": false,
     "start_time": "2024-03-31T06:51:54.779449",
     "status": "completed"
    },
    "tags": []
   },
   "outputs": [
    {
     "data": {
      "text/plain": [
       "'Documentaries As her father nears the end of his life filmmaker Kirsten Johnson stages his death in inventive and comical ways to help them both face the inevitable.  Kirsten Johnson'"
      ]
     },
     "execution_count": 17,
     "metadata": {},
     "output_type": "execute_result"
    }
   ],
   "source": [
    "#Now the tag column is ready.\n",
    "Series['tag'][0]"
   ]
  },
  {
   "cell_type": "code",
   "execution_count": 18,
   "id": "290d8ad9",
   "metadata": {
    "execution": {
     "iopub.execute_input": "2024-03-31T06:51:54.842393Z",
     "iopub.status.busy": "2024-03-31T06:51:54.841961Z",
     "iopub.status.idle": "2024-03-31T06:51:54.868166Z",
     "shell.execute_reply": "2024-03-31T06:51:54.867189Z"
    },
    "papermill": {
     "duration": 0.046826,
     "end_time": "2024-03-31T06:51:54.870698",
     "exception": false,
     "start_time": "2024-03-31T06:51:54.823872",
     "status": "completed"
    },
    "tags": []
   },
   "outputs": [
    {
     "data": {
      "text/plain": [
       "'documentaries as her father nears the end of his life filmmaker kirsten johnson stages his death in inventive and comical ways to help them both face the inevitable.  kirsten johnson'"
      ]
     },
     "execution_count": 18,
     "metadata": {},
     "output_type": "execute_result"
    }
   ],
   "source": [
    "#Converting the capital letters into the lower case.\n",
    "Series['tag']= Series['tag'].apply(lambda x:x.lower())\n",
    "Series['tag'][0]"
   ]
  },
  {
   "cell_type": "code",
   "execution_count": 19,
   "id": "770aab15",
   "metadata": {
    "execution": {
     "iopub.execute_input": "2024-03-31T06:51:54.907411Z",
     "iopub.status.busy": "2024-03-31T06:51:54.906220Z",
     "iopub.status.idle": "2024-03-31T06:51:54.913510Z",
     "shell.execute_reply": "2024-03-31T06:51:54.912441Z"
    },
    "papermill": {
     "duration": 0.028888,
     "end_time": "2024-03-31T06:51:54.916274",
     "exception": false,
     "start_time": "2024-03-31T06:51:54.887386",
     "status": "completed"
    },
    "tags": []
   },
   "outputs": [],
   "source": [
    "#Renaming the column name from Series Title to Title\n",
    "Series = Series.rename(columns={'title':'Title'})"
   ]
  },
  {
   "cell_type": "code",
   "execution_count": 20,
   "id": "794b15a6",
   "metadata": {
    "execution": {
     "iopub.execute_input": "2024-03-31T06:51:55.014024Z",
     "iopub.status.busy": "2024-03-31T06:51:55.013330Z",
     "iopub.status.idle": "2024-03-31T06:51:55.023988Z",
     "shell.execute_reply": "2024-03-31T06:51:55.023052Z"
    },
    "papermill": {
     "duration": 0.031186,
     "end_time": "2024-03-31T06:51:55.026367",
     "exception": false,
     "start_time": "2024-03-31T06:51:54.995181",
     "status": "completed"
    },
    "tags": []
   },
   "outputs": [
    {
     "data": {
      "text/html": [
       "<div>\n",
       "<style scoped>\n",
       "    .dataframe tbody tr th:only-of-type {\n",
       "        vertical-align: middle;\n",
       "    }\n",
       "\n",
       "    .dataframe tbody tr th {\n",
       "        vertical-align: top;\n",
       "    }\n",
       "\n",
       "    .dataframe thead th {\n",
       "        text-align: right;\n",
       "    }\n",
       "</style>\n",
       "<table border=\"1\" class=\"dataframe\">\n",
       "  <thead>\n",
       "    <tr style=\"text-align: right;\">\n",
       "      <th></th>\n",
       "      <th>Title</th>\n",
       "      <th>tag</th>\n",
       "    </tr>\n",
       "  </thead>\n",
       "  <tbody>\n",
       "    <tr>\n",
       "      <th>0</th>\n",
       "      <td>Dick Johnson Is Dead</td>\n",
       "      <td>documentaries as her father nears the end of h...</td>\n",
       "    </tr>\n",
       "    <tr>\n",
       "      <th>1</th>\n",
       "      <td>Blood &amp; Water</td>\n",
       "      <td>international tv shows tv dramas tv mysteries ...</td>\n",
       "    </tr>\n",
       "    <tr>\n",
       "      <th>2</th>\n",
       "      <td>Ganglands</td>\n",
       "      <td>crime tv shows international tv shows tv actio...</td>\n",
       "    </tr>\n",
       "    <tr>\n",
       "      <th>3</th>\n",
       "      <td>Jailbirds New Orleans</td>\n",
       "      <td>docuseries reality tv feuds flirtations and to...</td>\n",
       "    </tr>\n",
       "    <tr>\n",
       "      <th>4</th>\n",
       "      <td>Kota Factory</td>\n",
       "      <td>international tv shows romantic tv shows tv co...</td>\n",
       "    </tr>\n",
       "  </tbody>\n",
       "</table>\n",
       "</div>"
      ],
      "text/plain": [
       "                   Title                                                tag\n",
       "0   Dick Johnson Is Dead  documentaries as her father nears the end of h...\n",
       "1          Blood & Water  international tv shows tv dramas tv mysteries ...\n",
       "2              Ganglands  crime tv shows international tv shows tv actio...\n",
       "3  Jailbirds New Orleans  docuseries reality tv feuds flirtations and to...\n",
       "4           Kota Factory  international tv shows romantic tv shows tv co..."
      ]
     },
     "execution_count": 20,
     "metadata": {},
     "output_type": "execute_result"
    }
   ],
   "source": [
    "Series.head()"
   ]
  },
  {
   "cell_type": "markdown",
   "id": "df10c429",
   "metadata": {
    "papermill": {
     "duration": 0.016697,
     "end_time": "2024-03-31T06:51:55.059996",
     "exception": false,
     "start_time": "2024-03-31T06:51:55.043299",
     "status": "completed"
    },
    "tags": []
   },
   "source": [
    "Now, We make a function to perform the stemming: ***Stemming is the process of reducing a word to its word stem that affixes to suffixes and prefixes or to the roots of words known as a lemma. For example: words such as “Likes”, ”liked”, ”likely” and ”liking” will be reduced to “like” after stemming. ***"
   ]
  },
  {
   "cell_type": "code",
   "execution_count": 21,
   "id": "e2485356",
   "metadata": {
    "execution": {
     "iopub.execute_input": "2024-03-31T06:51:55.097715Z",
     "iopub.status.busy": "2024-03-31T06:51:55.097015Z",
     "iopub.status.idle": "2024-03-31T06:51:57.467077Z",
     "shell.execute_reply": "2024-03-31T06:51:57.465378Z"
    },
    "papermill": {
     "duration": 2.391863,
     "end_time": "2024-03-31T06:51:57.470527",
     "exception": false,
     "start_time": "2024-03-31T06:51:55.078664",
     "status": "completed"
    },
    "tags": []
   },
   "outputs": [],
   "source": [
    "#Importing the PorterStemmer from the nltk which is a NLP library. \n",
    "from nltk.stem import PorterStemmer\n",
    "\n",
    "ps = PorterStemmer()\n",
    "\n",
    "def stem(text):\n",
    "    y = []\n",
    "    \n",
    "    for i in text.split():\n",
    "        y.append(ps.stem(i))\n",
    "        \n",
    "    string = ' '.join(y)\n",
    "    return string\n"
   ]
  },
  {
   "cell_type": "code",
   "execution_count": 22,
   "id": "9547e7b6",
   "metadata": {
    "execution": {
     "iopub.execute_input": "2024-03-31T06:51:57.517447Z",
     "iopub.status.busy": "2024-03-31T06:51:57.516382Z",
     "iopub.status.idle": "2024-03-31T06:52:11.275579Z",
     "shell.execute_reply": "2024-03-31T06:52:11.274370Z"
    },
    "papermill": {
     "duration": 13.788239,
     "end_time": "2024-03-31T06:52:11.278627",
     "exception": false,
     "start_time": "2024-03-31T06:51:57.490388",
     "status": "completed"
    },
    "tags": []
   },
   "outputs": [],
   "source": [
    "Series['tag'] = Series['tag'].apply(stem)"
   ]
  },
  {
   "cell_type": "markdown",
   "id": "4d5b3465",
   "metadata": {
    "papermill": {
     "duration": 0.016433,
     "end_time": "2024-03-31T06:52:11.311900",
     "exception": false,
     "start_time": "2024-03-31T06:52:11.295467",
     "status": "completed"
    },
    "tags": []
   },
   "source": [
    "Now, I'm going to implementing the **vectorization** using the TfidfVectorizer: **TfidfVectorizer is a term frequency-inverse document frequency (TF-IDF) vectorizer in Python, commonly used in natural language processing (NLP) and information retrieval. It is a method used to convert text documents into numerical vectors, which can then be used as input for machine learning algorithms.**"
   ]
  },
  {
   "cell_type": "code",
   "execution_count": 23,
   "id": "3fe50da5",
   "metadata": {
    "execution": {
     "iopub.execute_input": "2024-03-31T06:52:11.347559Z",
     "iopub.status.busy": "2024-03-31T06:52:11.346785Z",
     "iopub.status.idle": "2024-03-31T06:52:11.351954Z",
     "shell.execute_reply": "2024-03-31T06:52:11.351098Z"
    },
    "papermill": {
     "duration": 0.025908,
     "end_time": "2024-03-31T06:52:11.354429",
     "exception": false,
     "start_time": "2024-03-31T06:52:11.328521",
     "status": "completed"
    },
    "tags": []
   },
   "outputs": [],
   "source": [
    "from sklearn.feature_extraction.text import TfidfVectorizer"
   ]
  },
  {
   "cell_type": "code",
   "execution_count": 24,
   "id": "11da7e8d",
   "metadata": {
    "execution": {
     "iopub.execute_input": "2024-03-31T06:52:11.390939Z",
     "iopub.status.busy": "2024-03-31T06:52:11.389511Z",
     "iopub.status.idle": "2024-03-31T06:52:11.395701Z",
     "shell.execute_reply": "2024-03-31T06:52:11.394580Z"
    },
    "papermill": {
     "duration": 0.026887,
     "end_time": "2024-03-31T06:52:11.398112",
     "exception": false,
     "start_time": "2024-03-31T06:52:11.371225",
     "status": "completed"
    },
    "tags": []
   },
   "outputs": [],
   "source": [
    "tfIdfVectorizer=TfidfVectorizer(use_idf=True,  max_features=50000, stop_words='english')"
   ]
  },
  {
   "cell_type": "code",
   "execution_count": 25,
   "id": "98b593e2",
   "metadata": {
    "execution": {
     "iopub.execute_input": "2024-03-31T06:52:11.434312Z",
     "iopub.status.busy": "2024-03-31T06:52:11.433544Z",
     "iopub.status.idle": "2024-03-31T06:52:13.680762Z",
     "shell.execute_reply": "2024-03-31T06:52:13.679368Z"
    },
    "papermill": {
     "duration": 2.268717,
     "end_time": "2024-03-31T06:52:13.683864",
     "exception": false,
     "start_time": "2024-03-31T06:52:11.415147",
     "status": "completed"
    },
    "tags": []
   },
   "outputs": [],
   "source": [
    "#Converting the words in tag column into vectors \n",
    "vectors = tfIdfVectorizer.fit_transform(Series['tag']).toarray()"
   ]
  },
  {
   "cell_type": "code",
   "execution_count": 26,
   "id": "2ee55795",
   "metadata": {
    "execution": {
     "iopub.execute_input": "2024-03-31T06:52:13.719608Z",
     "iopub.status.busy": "2024-03-31T06:52:13.719140Z",
     "iopub.status.idle": "2024-03-31T06:52:13.727372Z",
     "shell.execute_reply": "2024-03-31T06:52:13.726087Z"
    },
    "papermill": {
     "duration": 0.028887,
     "end_time": "2024-03-31T06:52:13.729904",
     "exception": false,
     "start_time": "2024-03-31T06:52:13.701017",
     "status": "completed"
    },
    "tags": []
   },
   "outputs": [
    {
     "data": {
      "text/plain": [
       "array([[0., 0., 0., ..., 0., 0., 0.],\n",
       "       [0., 0., 0., ..., 0., 0., 0.],\n",
       "       [0., 0., 0., ..., 0., 0., 0.],\n",
       "       ...,\n",
       "       [0., 0., 0., ..., 0., 0., 0.],\n",
       "       [0., 0., 0., ..., 0., 0., 0.],\n",
       "       [0., 0., 0., ..., 0., 0., 0.]])"
      ]
     },
     "execution_count": 26,
     "metadata": {},
     "output_type": "execute_result"
    }
   ],
   "source": [
    "vectors"
   ]
  },
  {
   "cell_type": "code",
   "execution_count": 27,
   "id": "12bb04b6",
   "metadata": {
    "execution": {
     "iopub.execute_input": "2024-03-31T06:52:13.766257Z",
     "iopub.status.busy": "2024-03-31T06:52:13.765453Z",
     "iopub.status.idle": "2024-03-31T06:52:13.772535Z",
     "shell.execute_reply": "2024-03-31T06:52:13.771396Z"
    },
    "papermill": {
     "duration": 0.027873,
     "end_time": "2024-03-31T06:52:13.774833",
     "exception": false,
     "start_time": "2024-03-31T06:52:13.746960",
     "status": "completed"
    },
    "tags": []
   },
   "outputs": [
    {
     "data": {
      "text/plain": [
       "(8807, 46029)"
      ]
     },
     "execution_count": 27,
     "metadata": {},
     "output_type": "execute_result"
    }
   ],
   "source": [
    "vectors.shape"
   ]
  },
  {
   "cell_type": "markdown",
   "id": "e9830374",
   "metadata": {
    "papermill": {
     "duration": 0.016932,
     "end_time": "2024-03-31T06:52:13.809048",
     "exception": false,
     "start_time": "2024-03-31T06:52:13.792116",
     "status": "completed"
    },
    "tags": []
   },
   "source": [
    "Using Sklearn library importing cosine_similarity: **cosine_similarity is a function used to compute the cosine similarity between pairs of vectors. In the context of text processing and natural language processing (NLP), it's often used to measure the similarity between documents or text snippets represented as vectors, typically using TF-IDF (Term Frequency-Inverse Document Frequency) vectors.**"
   ]
  },
  {
   "cell_type": "code",
   "execution_count": 28,
   "id": "5b488f06",
   "metadata": {
    "execution": {
     "iopub.execute_input": "2024-03-31T06:52:13.845891Z",
     "iopub.status.busy": "2024-03-31T06:52:13.845056Z",
     "iopub.status.idle": "2024-03-31T06:52:13.850110Z",
     "shell.execute_reply": "2024-03-31T06:52:13.849309Z"
    },
    "papermill": {
     "duration": 0.026198,
     "end_time": "2024-03-31T06:52:13.852506",
     "exception": false,
     "start_time": "2024-03-31T06:52:13.826308",
     "status": "completed"
    },
    "tags": []
   },
   "outputs": [],
   "source": [
    "from sklearn.metrics.pairwise import cosine_similarity"
   ]
  },
  {
   "cell_type": "code",
   "execution_count": 29,
   "id": "6eb25549",
   "metadata": {
    "execution": {
     "iopub.execute_input": "2024-03-31T06:52:13.888196Z",
     "iopub.status.busy": "2024-03-31T06:52:13.887782Z",
     "iopub.status.idle": "2024-03-31T06:53:13.833111Z",
     "shell.execute_reply": "2024-03-31T06:53:13.831482Z"
    },
    "papermill": {
     "duration": 59.966585,
     "end_time": "2024-03-31T06:53:13.835996",
     "exception": false,
     "start_time": "2024-03-31T06:52:13.869411",
     "status": "completed"
    },
    "tags": []
   },
   "outputs": [],
   "source": [
    "similarity = cosine_similarity(vectors)"
   ]
  },
  {
   "cell_type": "code",
   "execution_count": 30,
   "id": "6a59f32f",
   "metadata": {
    "execution": {
     "iopub.execute_input": "2024-03-31T06:53:13.873028Z",
     "iopub.status.busy": "2024-03-31T06:53:13.872627Z",
     "iopub.status.idle": "2024-03-31T06:53:13.879802Z",
     "shell.execute_reply": "2024-03-31T06:53:13.878559Z"
    },
    "papermill": {
     "duration": 0.028496,
     "end_time": "2024-03-31T06:53:13.882024",
     "exception": false,
     "start_time": "2024-03-31T06:53:13.853528",
     "status": "completed"
    },
    "tags": []
   },
   "outputs": [
    {
     "data": {
      "text/plain": [
       "(8807, 8807)"
      ]
     },
     "execution_count": 30,
     "metadata": {},
     "output_type": "execute_result"
    }
   ],
   "source": [
    "similarity.shape"
   ]
  },
  {
   "cell_type": "markdown",
   "id": "a839f8af",
   "metadata": {
    "papermill": {
     "duration": 0.016803,
     "end_time": "2024-03-31T06:53:13.916228",
     "exception": false,
     "start_time": "2024-03-31T06:53:13.899425",
     "status": "completed"
    },
    "tags": []
   },
   "source": [
    "Now, I'm gona make** main function** to recommend the TV Shows,Recommending the TV show according the **distance** between the vectors in **similarity table of 40000 dimensions**. And find the **Neariest Similar TV Show**. "
   ]
  },
  {
   "cell_type": "code",
   "execution_count": 31,
   "id": "d459487a",
   "metadata": {
    "execution": {
     "iopub.execute_input": "2024-03-31T06:53:13.952936Z",
     "iopub.status.busy": "2024-03-31T06:53:13.951898Z",
     "iopub.status.idle": "2024-03-31T06:53:13.959388Z",
     "shell.execute_reply": "2024-03-31T06:53:13.958013Z"
    },
    "papermill": {
     "duration": 0.028743,
     "end_time": "2024-03-31T06:53:13.962073",
     "exception": false,
     "start_time": "2024-03-31T06:53:13.933330",
     "status": "completed"
    },
    "tags": []
   },
   "outputs": [],
   "source": [
    "def recommendation(movie):\n",
    "    movie_index = Series[Series['Title'] == movie].index[0]\n",
    "    distances = similarity[movie_index]\n",
    "    movies_list = sorted(list(enumerate(distances)), reverse=True, key=lambda x:x[1])[1:11]\n",
    "    for i in movies_list:\n",
    "        print(Series.iloc[i[0]].Title)"
   ]
  },
  {
   "cell_type": "code",
   "execution_count": 32,
   "id": "92e9d0ad",
   "metadata": {
    "execution": {
     "iopub.execute_input": "2024-03-31T06:53:13.998595Z",
     "iopub.status.busy": "2024-03-31T06:53:13.998212Z",
     "iopub.status.idle": "2024-03-31T06:53:14.017776Z",
     "shell.execute_reply": "2024-03-31T06:53:14.016502Z"
    },
    "papermill": {
     "duration": 0.041098,
     "end_time": "2024-03-31T06:53:14.020609",
     "exception": false,
     "start_time": "2024-03-31T06:53:13.979511",
     "status": "completed"
    },
    "tags": []
   },
   "outputs": [
    {
     "name": "stdout",
     "output_type": "stream",
     "text": [
      "Yeh Meri Family\n",
      "Chaman Bahaar\n",
      "Girls Hostel\n",
      "Dancing Angels\n",
      "Engineering Girls\n",
      "Betaal\n",
      "Guru Aur Bhole\n",
      "Duniya\n",
      "Sangam\n",
      "Super Nani\n"
     ]
    }
   ],
   "source": [
    "recommendation(\"Kota Factory\")"
   ]
  },
  {
   "cell_type": "code",
   "execution_count": 33,
   "id": "7bedc3cd",
   "metadata": {
    "execution": {
     "iopub.execute_input": "2024-03-31T06:53:14.059514Z",
     "iopub.status.busy": "2024-03-31T06:53:14.059075Z",
     "iopub.status.idle": "2024-03-31T06:53:14.074057Z",
     "shell.execute_reply": "2024-03-31T06:53:14.072819Z"
    },
    "papermill": {
     "duration": 0.038041,
     "end_time": "2024-03-31T06:53:14.076874",
     "exception": false,
     "start_time": "2024-03-31T06:53:14.038833",
     "status": "completed"
    },
    "tags": []
   },
   "outputs": [],
   "source": [
    "import pickle\n",
    "pickle.dump(Series,open('Series.pkl','wb'))"
   ]
  },
  {
   "cell_type": "code",
   "execution_count": 34,
   "id": "bc21a4fe",
   "metadata": {
    "execution": {
     "iopub.execute_input": "2024-03-31T06:53:14.115967Z",
     "iopub.status.busy": "2024-03-31T06:53:14.115591Z",
     "iopub.status.idle": "2024-03-31T06:53:15.231662Z",
     "shell.execute_reply": "2024-03-31T06:53:15.230497Z"
    },
    "papermill": {
     "duration": 1.138975,
     "end_time": "2024-03-31T06:53:15.234564",
     "exception": false,
     "start_time": "2024-03-31T06:53:14.095589",
     "status": "completed"
    },
    "tags": []
   },
   "outputs": [],
   "source": [
    "pickle.dump(similarity,open('Similarity.pkl','wb'))"
   ]
  },
  {
   "cell_type": "code",
   "execution_count": 35,
   "id": "41793e47",
   "metadata": {
    "execution": {
     "iopub.execute_input": "2024-03-31T06:53:15.271575Z",
     "iopub.status.busy": "2024-03-31T06:53:15.271182Z",
     "iopub.status.idle": "2024-03-31T06:53:16.428367Z",
     "shell.execute_reply": "2024-03-31T06:53:16.426562Z"
    },
    "papermill": {
     "duration": 1.179317,
     "end_time": "2024-03-31T06:53:16.431379",
     "exception": false,
     "start_time": "2024-03-31T06:53:15.252062",
     "status": "completed"
    },
    "tags": []
   },
   "outputs": [],
   "source": [
    "!cd /kaggle/working"
   ]
  },
  {
   "cell_type": "code",
   "execution_count": 36,
   "id": "53bd0f0c",
   "metadata": {
    "execution": {
     "iopub.execute_input": "2024-03-31T06:53:16.470207Z",
     "iopub.status.busy": "2024-03-31T06:53:16.468717Z",
     "iopub.status.idle": "2024-03-31T06:53:17.653644Z",
     "shell.execute_reply": "2024-03-31T06:53:17.652195Z"
    },
    "papermill": {
     "duration": 1.207224,
     "end_time": "2024-03-31T06:53:17.656600",
     "exception": false,
     "start_time": "2024-03-31T06:53:16.449376",
     "status": "completed"
    },
    "tags": []
   },
   "outputs": [
    {
     "name": "stdout",
     "output_type": "stream",
     "text": [
      "Series.pkl  Similarity.pkl  __notebook__.ipynb\r\n"
     ]
    }
   ],
   "source": [
    "!ls\n"
   ]
  },
  {
   "cell_type": "code",
   "execution_count": 37,
   "id": "c0595144",
   "metadata": {
    "execution": {
     "iopub.execute_input": "2024-03-31T06:53:17.694806Z",
     "iopub.status.busy": "2024-03-31T06:53:17.693417Z",
     "iopub.status.idle": "2024-03-31T06:53:48.583965Z",
     "shell.execute_reply": "2024-03-31T06:53:48.582743Z"
    },
    "papermill": {
     "duration": 30.912687,
     "end_time": "2024-03-31T06:53:48.586876",
     "exception": false,
     "start_time": "2024-03-31T06:53:17.674189",
     "status": "completed"
    },
    "tags": []
   },
   "outputs": [
    {
     "name": "stdout",
     "output_type": "stream",
     "text": [
      "  adding: kaggle/working/ (stored 0%)\r\n",
      "  adding: kaggle/working/Series.pkl (deflated 57%)\r\n",
      "  adding: kaggle/working/Similarity.pkl (deflated 30%)\r\n",
      "  adding: kaggle/working/__notebook__.ipynb (deflated 85%)\r\n"
     ]
    }
   ],
   "source": [
    "from IPython.display import FileLink\n",
    "!zip -r file.zip /kaggle/working"
   ]
  },
  {
   "cell_type": "code",
   "execution_count": 38,
   "id": "745961a7",
   "metadata": {
    "execution": {
     "iopub.execute_input": "2024-03-31T06:53:48.625089Z",
     "iopub.status.busy": "2024-03-31T06:53:48.624634Z",
     "iopub.status.idle": "2024-03-31T06:53:49.778953Z",
     "shell.execute_reply": "2024-03-31T06:53:49.777532Z"
    },
    "papermill": {
     "duration": 1.176603,
     "end_time": "2024-03-31T06:53:49.781775",
     "exception": false,
     "start_time": "2024-03-31T06:53:48.605172",
     "status": "completed"
    },
    "tags": []
   },
   "outputs": [
    {
     "name": "stdout",
     "output_type": "stream",
     "text": [
      "Series.pkl  Similarity.pkl  __notebook__.ipynb\tfile.zip\r\n"
     ]
    }
   ],
   "source": [
    "!ls"
   ]
  },
  {
   "cell_type": "code",
   "execution_count": 39,
   "id": "2d53a99f",
   "metadata": {
    "execution": {
     "iopub.execute_input": "2024-03-31T06:53:49.819733Z",
     "iopub.status.busy": "2024-03-31T06:53:49.819287Z",
     "iopub.status.idle": "2024-03-31T06:53:49.827737Z",
     "shell.execute_reply": "2024-03-31T06:53:49.826572Z"
    },
    "papermill": {
     "duration": 0.030538,
     "end_time": "2024-03-31T06:53:49.830140",
     "exception": false,
     "start_time": "2024-03-31T06:53:49.799602",
     "status": "completed"
    },
    "tags": []
   },
   "outputs": [
    {
     "data": {
      "text/html": [
       "<a href='file.zip' target='_blank'>file.zip</a><br>"
      ],
      "text/plain": [
       "/kaggle/working/file.zip"
      ]
     },
     "execution_count": 39,
     "metadata": {},
     "output_type": "execute_result"
    }
   ],
   "source": [
    "FileLink(r'file.zip')"
   ]
  }
 ],
 "metadata": {
  "kaggle": {
   "accelerator": "none",
   "dataSources": [
    {
     "datasetId": 434238,
     "sourceId": 2654038,
     "sourceType": "datasetVersion"
    }
   ],
   "dockerImageVersionId": 30673,
   "isGpuEnabled": false,
   "isInternetEnabled": false,
   "language": "python",
   "sourceType": "notebook"
  },
  "kernelspec": {
   "display_name": "Python 3",
   "language": "python",
   "name": "python3"
  },
  "language_info": {
   "codemirror_mode": {
    "name": "ipython",
    "version": 3
   },
   "file_extension": ".py",
   "mimetype": "text/x-python",
   "name": "python",
   "nbconvert_exporter": "python",
   "pygments_lexer": "ipython3",
   "version": "3.10.13"
  },
  "papermill": {
   "default_parameters": {},
   "duration": 121.762168,
   "end_time": "2024-03-31T06:53:50.771154",
   "environment_variables": {},
   "exception": null,
   "input_path": "__notebook__.ipynb",
   "output_path": "__notebook__.ipynb",
   "parameters": {},
   "start_time": "2024-03-31T06:51:49.008986",
   "version": "2.5.0"
  }
 },
 "nbformat": 4,
 "nbformat_minor": 5
}
